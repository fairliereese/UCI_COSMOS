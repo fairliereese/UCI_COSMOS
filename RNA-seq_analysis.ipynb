{
 "cells": [
  {
   "cell_type": "markdown",
   "id": "f87b755f-c254-498f-9ef1-a2df1267834f",
   "metadata": {},
   "source": [
    "# Day 2 Goals\n",
    "- Run alignment job for at least 1 sample\n",
    "- Load counts/TPM matrices into R and practice matrix manipulation, subsetting, etc. \n",
    "- Practice making plots with `ggplot2`\n",
    "- Identify differentially expressed genes in a dataset"
   ]
  },
  {
   "cell_type": "markdown",
   "id": "ce6c6a40-a00b-4168-9c39-c16287e5a6cd",
   "metadata": {},
   "source": [
    "# Bulk RNA-seq analysis\n",
    "\n",
    "Yesterday we got started working on HPC, learning Unix commands, and running bash scripts. That is a lot to do in just a few hours, so we expect that today we will also be working on navigating the command line and aligning reads. We can answer questions and troubleshoot altogether if many people have similar questions, and/or some of us can break out into small groups to address specific questions.\n",
    "\n",
    "There are a few more steps post-alignment we need to do in order to get our gene-by-sample counts matrices. We want to make sure to touch on everyone's interests as much as possible (and give you the tools needed to start thinking about your projects!), so we have pre-made counts matrices so we can get started on secondary analysis and plotting."
   ]
  },
  {
   "cell_type": "markdown",
   "id": "24a7d30f-eed4-45e1-9fdc-0e94c9a4541c",
   "metadata": {},
   "source": [
    "### Log in\n",
    "https://hpc3.rcic.uci.edu/biojhub3/ "
   ]
  },
  {
   "cell_type": "markdown",
   "id": "4b9b152f-eb56-4fb4-9c00-8e8a2de18797",
   "metadata": {},
   "source": [
    "## Option 1: Download pre-made counts matrix and TPM matrix"
   ]
  },
  {
   "cell_type": "markdown",
   "id": "7d6f800c-5a7f-4f25-be77-8ddc0994ff7a",
   "metadata": {},
   "source": [
    "If you need them, copy the counts and TPM matrices from my public directory to your home directory."
   ]
  },
  {
   "cell_type": "markdown",
   "id": "2e6b00b0-d71c-4a7d-8186-726522398b16",
   "metadata": {},
   "source": [
    "```\n",
    "cp /pub/erebboah/cosmos/FSHD_bulkRNA/kallisto_counts/fshd.counts.matrix.csv .\n",
    "cp /pub/erebboah/cosmos/FSHD_bulkRNA/kallisto_counts/fshd.tpm.matrix.csv .\n",
    "```"
   ]
  },
  {
   "cell_type": "markdown",
   "id": "4f3023d9-efb5-4c94-9654-f36caae1c344",
   "metadata": {},
   "source": [
    "## Option 2: Build matrices from kallisto output\n",
    "Fairlie can teach you how to merge all the individual abundance matrices together and convert the transcripts to genes."
   ]
  },
  {
   "cell_type": "markdown",
   "id": "c8a1e06b-f1af-4330-b723-a9a6077f812a",
   "metadata": {},
   "source": [
    "# Analyze data in R"
   ]
  },
  {
   "cell_type": "code",
   "execution_count": null,
   "id": "b7794cfc-2167-45dc-b223-faf2dda9ee9e",
   "metadata": {},
   "outputs": [],
   "source": [
    "\n",
    "tpm = as.matrix(read.csv(\"fshd.tpm.matrix.csv\", row.names = 1))\n",
    "counts = as.matrix(read.csv(\"fshd.counts.matrix.csv\", row.names = 1))"
   ]
  },
  {
   "cell_type": "code",
   "execution_count": null,
   "id": "f3f658a0-d4f6-4259-ac03-6eff1108b3b6",
   "metadata": {},
   "outputs": [],
   "source": [
    "head(tpm)\n",
    "head(counts)\n",
    "dim(tpm)"
   ]
  },
  {
   "cell_type": "markdown",
   "id": "9d8b15a7-6b0c-43a7-a806-cd2afc44a48e",
   "metadata": {},
   "source": [
    "We have 59,429 genes by 8 samples. The python script outputs both the Ensembl gene ID and the gene name separated by \"|\"; let's grab the gene name to be more human readable."
   ]
  },
  {
   "cell_type": "code",
   "execution_count": null,
   "id": "e6e5acc2-e7e7-4bbf-999c-90829877c083",
   "metadata": {},
   "outputs": [],
   "source": [
    "library(stringr)"
   ]
  },
  {
   "cell_type": "code",
   "execution_count": null,
   "id": "6c2401e9-69c7-4520-970a-b806f6666c44",
   "metadata": {},
   "outputs": [],
   "source": [
    "gene_name = sapply(strsplit(rownames(tpm), \"[|]\"), \"[[\", 2) # string manipulation using | as a separator\n",
    "head(gene_name)"
   ]
  },
  {
   "cell_type": "code",
   "execution_count": null,
   "id": "23257c86-4917-47f6-9d7b-f9b06b83b58c",
   "metadata": {},
   "outputs": [],
   "source": [
    "rownames(tpm) = gene_name\n",
    "head(tpm) # much better\n",
    "rownames(counts) = gene_name\n",
    "head(counts) "
   ]
  },
  {
   "cell_type": "markdown",
   "id": "10772ebb-e31d-48bf-931f-7d6f6d26e7bb",
   "metadata": {},
   "source": [
    "59,429 genes sounds like a lot-- probably because many aren't expressed, such as predicted genes. We can filter out rows containing all 0 values using the `rowSums()` function."
   ]
  },
  {
   "cell_type": "code",
   "execution_count": null,
   "id": "3f5ec83a-f74a-4620-80bf-7563649a99c4",
   "metadata": {},
   "outputs": [],
   "source": [
    "### Filter out genes with 0 count\n",
    "tpm = tpm[rowSums(tpm[])>0,]\n",
    "dim(tpm)"
   ]
  },
  {
   "cell_type": "markdown",
   "id": "67494a8f-b5c3-4567-9845-d43ae419fe44",
   "metadata": {},
   "source": [
    "### PCA and outlier removal\n",
    "We'll use the TPM matrix to perform principal component analysis ([PCA](https://builtin.com/data-science/step-step-explanation-principal-component-analysis))."
   ]
  },
  {
   "cell_type": "code",
   "execution_count": null,
   "id": "4c692729-26f2-49c2-974c-ca8400fe3b4f",
   "metadata": {},
   "outputs": [],
   "source": [
    "# Run PCA algorithm and plot\n",
    "pca <- prcomp(t(log2(tpm+1)))\n",
    "# Plot PCA1 and PCA2\n",
    "plot(pca$x[,1], pca$x[,2])"
   ]
  },
  {
   "cell_type": "markdown",
   "id": "01968dfe-7b52-4e03-a0ce-50c55978cd7b",
   "metadata": {},
   "source": [
    "We can make a fancier PCA plot with `ggplot`."
   ]
  },
  {
   "cell_type": "code",
   "execution_count": null,
   "id": "9642e8e1-abbf-46d5-9f7e-cc98041417e8",
   "metadata": {},
   "outputs": [],
   "source": [
    "# Grab x from pca output\n",
    "pca_out <- as.data.frame(pca$x)\n",
    "\n",
    "# Get percent variance explained for x and y axes\n",
    "percentage <- round(pca$sdev/sum(pca$sdev) * 100, 2)\n",
    "percentage <- paste0(colnames(pca_out), \" (\", paste0(as.character(percentage), \"%\", \")\"))"
   ]
  },
  {
   "cell_type": "code",
   "execution_count": null,
   "id": "45768595-a664-4f14-9ad5-55804f2865ab",
   "metadata": {},
   "outputs": [],
   "source": [
    "# Use column names and string manipulation to make metadata\n",
    "pca_out$Sample <- colnames(counts)\n",
    "pca_out$Genotype <- sapply(strsplit(colnames(counts), \"_\"), \"[[\", 1)\n",
    "pca_out$Timepoint <- sapply(strsplit(colnames(counts), \"_\"), \"[[\", 4)\n",
    "pca_out$Replicate <- sapply(strsplit(colnames(counts), \"_\"), \"[[\", 5)"
   ]
  },
  {
   "cell_type": "code",
   "execution_count": null,
   "id": "ffe75f55-6787-4e1c-b756-c5054452e18a",
   "metadata": {},
   "outputs": [],
   "source": [
    "library(ggplot2)\n",
    "library(ggrepel)\n",
    "library(factoextra)\n",
    "library(tidyverse)\n",
    "\n",
    "# Labels are sample, colors are timepoint\n",
    "p = ggplot(pca_out,aes(x=PC1,y=PC2,color=Timepoint))+\n",
    "  geom_point(aes(shape=Genotype),size=1) + \n",
    "  xlab(percentage[1]) + ylab(percentage[2]) +\n",
    "  geom_label_repel(aes(label = Sample),\n",
    "                   box.padding   = 0.35, \n",
    "                   point.padding = 0.5,\n",
    "                   segment.color = 'grey50',\n",
    "                   show.legend=FALSE) +\n",
    "  theme_bw()\n",
    "print(p)"
   ]
  },
  {
   "cell_type": "markdown",
   "id": "cee3ef89-46f6-49a5-ae01-0917ae520ef1",
   "metadata": {},
   "source": [
    "Looks like PC1 primarily separates day 0 and day 3 samples and explains slightly more variance than PC2, which separates control and FSHD2. Let's make another PCA plot but change the [colors](https://colorbrewer2.org/) and size of the points:"
   ]
  },
  {
   "cell_type": "code",
   "execution_count": null,
   "id": "f6b32127-c5e4-4ecd-a97d-68d50188e24f",
   "metadata": {},
   "outputs": [],
   "source": [
    "p = ggplot(pca_out,aes(x=PC1,y=PC2,color=Timepoint))+\n",
    "  geom_point(aes(shape=Genotype),size=4) + \n",
    "  xlab(percentage[1]) + ylab(percentage[2]) +\n",
    "  geom_label_repel(aes(label = Sample), \n",
    "                   box.padding   = 0.35, \n",
    "                   point.padding = 0.5,\n",
    "                   segment.color = 'grey50',\n",
    "                   show.legend=FALSE) +\n",
    "  theme_bw() + scale_color_manual(values=c(\"#1b9e77\", \"#d95f02\"))"
   ]
  },
  {
   "cell_type": "code",
   "execution_count": null,
   "id": "f64d39f1-5e79-420f-89e6-1f7cdaf23c29",
   "metadata": {},
   "outputs": [],
   "source": [
    "print(p)"
   ]
  },
  {
   "cell_type": "markdown",
   "id": "0c056ee0-9012-45c0-92c6-7227414e21dc",
   "metadata": {},
   "source": [
    "Save figure to a PDF! Make a figures directory if you haven't done so:"
   ]
  },
  {
   "cell_type": "code",
   "execution_count": null,
   "id": "aaab8c30-7bc8-42ed-99d8-9a4af6ee2426",
   "metadata": {},
   "outputs": [],
   "source": [
    "ggsave(file = \"PCA_bulkRNA_fshd.pdf\",\n",
    "    width = 5.5, \n",
    "    height = 5)\n",
    "dev.off()"
   ]
  },
  {
   "cell_type": "code",
   "execution_count": null,
   "id": "cbf769b5",
   "metadata": {},
   "outputs": [],
   "source": [
    "res.var <- get_pca_var(pca)\n",
    "head(res.var$contrib)"
   ]
  },
  {
   "cell_type": "code",
   "execution_count": null,
   "id": "62c1cbe2",
   "metadata": {},
   "outputs": [],
   "source": [
    "#### Function to extract Dimension\n",
    "PCA_extract <- function(y){\n",
    "res.var <- get_pca_var(pca)\n",
    "res.var <- res.var$contrib\n",
    "res.var <- res.var[order(-res.var[,y]),]\n",
    "PCA <- res.var %>%\n",
    "  as.data.frame %>% \n",
    "  head(50, by = y) \n",
    "PCA$gene_clean <-rownames(PCA)\n",
    "}"
   ]
  },
  {
   "cell_type": "code",
   "execution_count": null,
   "id": "e1a860f9-d620-4c2d-b81e-db352460ef87",
   "metadata": {},
   "outputs": [],
   "source": [
    "## Extract Dimension\n",
    "PCA_1 <- PCA_extract(\"Dim.1\")\n",
    "PCA_2 <- PCA_extract(\"Dim.2\")\n",
    "head(PCA_1,50)"
   ]
  },
  {
   "cell_type": "code",
   "execution_count": null,
   "id": "7c8562cf",
   "metadata": {},
   "outputs": [],
   "source": [
    "head(PCA_2,50)"
   ]
  },
  {
   "cell_type": "markdown",
   "id": "2f4d022d-8848-4cc0-8f8c-a35528c391a3",
   "metadata": {},
   "source": [
    "# Excercise 1"
   ]
  },
  {
   "cell_type": "markdown",
   "id": "2396a3c5-363d-48d4-90bf-4077674c4ce7",
   "metadata": {},
   "source": [
    "### 1) Plot PCA3 and PCA4 \n",
    "\n",
    "### 2) Extract genes for PCA3 and PCA4\n"
   ]
  },
  {
   "cell_type": "markdown",
   "id": "83737ad7",
   "metadata": {},
   "source": [
    "### Run differential expression analysis"
   ]
  },
  {
   "cell_type": "code",
   "execution_count": null,
   "id": "e018cb27-d5cd-4ebd-9e60-104faedd56c7",
   "metadata": {},
   "outputs": [],
   "source": [
    "library(edgeR)"
   ]
  },
  {
   "cell_type": "code",
   "execution_count": null,
   "id": "c0f1fa33-fb21-41f8-98bb-462a6f4e12f4",
   "metadata": {},
   "outputs": [],
   "source": [
    "# We need a metadata file -- basically already made it earlier with stringsplit operations\n",
    "meta = pca_out[,c(\"Sample\",\"Timepoint\",\"Genotype\",\"Replicate\")]\n",
    "head(meta)"
   ]
  },
  {
   "cell_type": "markdown",
   "id": "8a83750f",
   "metadata": {},
   "source": [
    "#### Set up EdgeR function"
   ]
  },
  {
   "cell_type": "code",
   "execution_count": null,
   "id": "97343c8d",
   "metadata": {},
   "outputs": [],
   "source": [
    "### Make groups\n",
    "group <- factor(str_sub(meta$Sample, end=-6))\n",
    "z <- tpm\n",
    "### read count matrix into DGEList\n",
    "y=DGEList(counts=z, group=group)\n",
    "design <- model.matrix(~0+group, data=y$samples)\n",
    "colnames(design) <- levels(y$samples$group)\n",
    "head(design)"
   ]
  },
  {
   "cell_type": "code",
   "execution_count": null,
   "id": "d937ed46",
   "metadata": {},
   "outputs": [],
   "source": [
    "### Calculation\n",
    "y=estimateCommonDisp(y)\n",
    "\n",
    "y=estimateTagwiseDisp(y)\n",
    "\n",
    "fit <- glmQLFit(y, design)"
   ]
  },
  {
   "cell_type": "code",
   "execution_count": null,
   "id": "b04d85b5",
   "metadata": {},
   "outputs": [],
   "source": [
    "EdgeR_func_GLM <- function(w){\n",
    "\n",
    "Contrast <- makeContrasts(contrasts=\"Control_78_Day_0-FSHD2_19_Day_0\", levels=design)\n",
    "qlf <- glmQLFTest(fit, contrast=Contrast)\n",
    "result <- topTags(qlf,n=10000000) \n",
    "table <- as.data.frame(result)\n",
    "### Select cut off\n",
    "top_up <- subset(as.data.frame(result), PValue < 0.01 & logFC > 1.5)\n",
    "top_genes_up <- as.data.frame(subset(tpm, row.names(tpm) %in% row.names(top_up)))\n",
    "\n",
    "top_down <- subset(as.data.frame(result), PValue < 0.01 & logFC < -1.5)\n",
    "top_genes_down <- as.data.frame(subset(tpm, row.names(tpm) %in% row.names(top_down)))\n",
    "### Up Gene\n",
    "top_genes_up$gene_name <- rownames(top_genes_up)\n",
    "top_up$gene_name <- rownames(top_up)\n",
    "### Down Gene\n",
    "top_genes_down$gene_name <- rownames(top_genes_down) \n",
    "top_down$gene_name <- rownames(top_down)\n",
    "### Make table\n",
    "top_up <-left_join(top_up, dplyr::select(top_genes_up,gene_name), by = 'gene_name')\n",
    "top_down <-left_join(top_down, dplyr::select(top_genes_down,gene_name), by = 'gene_name')\n",
    "output<-list(\"Up\"= top_up, \"Down\" = top_down,\"table\"=table)\n",
    "return(output)\n",
    "}"
   ]
  },
  {
   "cell_type": "code",
   "execution_count": null,
   "id": "910f6b7d",
   "metadata": {},
   "outputs": [],
   "source": [
    "#### Make comparison\n",
    "#### Compare Control vs FSHD\n",
    "result <- EdgeR_func_GLM(\"Control_78_Day_3-Control_78_Day_0\")\n",
    "Control_3_up <- result$Up$gene_name\n",
    "Control_3_down <- result$Down$gene_name\n",
    "Control_3_table <- result$table"
   ]
  },
  {
   "cell_type": "code",
   "execution_count": null,
   "id": "acb9032e",
   "metadata": {},
   "outputs": [],
   "source": [
    "head(Control_3_table,50)"
   ]
  },
  {
   "cell_type": "markdown",
   "id": "a947c631-6d99-45be-98c9-e1988339f610",
   "metadata": {},
   "source": [
    "# Excercise 2"
   ]
  },
  {
   "cell_type": "markdown",
   "id": "32cc02d3-ec04-40d7-9781-4f8f7ba61a49",
   "metadata": {},
   "source": [
    "### Compare FSHD2 to Control Day 0"
   ]
  },
  {
   "cell_type": "markdown",
   "id": "6db55e43",
   "metadata": {},
   "source": [
    "# Visualize Data"
   ]
  },
  {
   "cell_type": "code",
   "execution_count": null,
   "id": "c537e199",
   "metadata": {},
   "outputs": [],
   "source": [
    "## Load package\n",
    "library(ggplot2)"
   ]
  },
  {
   "cell_type": "markdown",
   "id": "ff01b1bf",
   "metadata": {},
   "source": [
    "### Make a volcano plot"
   ]
  },
  {
   "cell_type": "markdown",
   "id": "f9189f77",
   "metadata": {},
   "source": [
    "#### Make table for plotting"
   ]
  },
  {
   "cell_type": "code",
   "execution_count": null,
   "id": "31a53d02",
   "metadata": {},
   "outputs": [],
   "source": [
    "plot_table <- Control_3_table %>% \n",
    "  mutate(Categories = ifelse(logFC >= 1.0 & PValue <  0.01,\"High in FSHD\", \n",
    "    ifelse(logFC<= -1.0 & PValue <  0.01 , \"Low in FSHD\", \"No Changes\")))\n",
    "head(plot_table,50)"
   ]
  },
  {
   "cell_type": "markdown",
   "id": "1a05961c",
   "metadata": {},
   "source": [
    "#### Plot"
   ]
  },
  {
   "cell_type": "code",
   "execution_count": null,
   "id": "88397e2f",
   "metadata": {},
   "outputs": [],
   "source": [
    "ggplot(plot_table, aes(x=logFC, y= -log10(PValue))) +\n",
    "  geom_point(aes(colour = Categories), size=1) +\n",
    "  geom_hline(yintercept=2, linetype=\"dashed\", \n",
    "             color = \"red\", size=0.5) +\n",
    "  geom_vline(xintercept=1, color = \"blue\", size=0.5) +\n",
    "  geom_vline(xintercept=-1, color = \"blue\", size=0.5) \n",
    "  "
   ]
  },
  {
   "cell_type": "markdown",
   "id": "3cc28a62",
   "metadata": {},
   "source": [
    "#### Add titles and labels"
   ]
  },
  {
   "cell_type": "code",
   "execution_count": null,
   "id": "85c1dccc",
   "metadata": {},
   "outputs": [],
   "source": [
    "ggplot(plot_table, aes(x=logFC, y= -log10(PValue))) +\n",
    "  geom_point(aes(colour = Categories), size=1) +\n",
    "  geom_hline(yintercept=2, linetype=\"dashed\", \n",
    "             color = \"red\", size=0.5) +\n",
    "  geom_vline(xintercept=1, color = \"blue\", size=0.5) +\n",
    "  geom_vline(xintercept=-1, color = \"blue\", size=0.5) +\n",
    "  ggtitle(\"FSHD vs Control\") +\n",
    "  xlab(\"log2 Fold Change\") + ylab(\"log10 Pvalue\")"
   ]
  },
  {
   "cell_type": "markdown",
   "id": "c6f6818b",
   "metadata": {},
   "source": [
    "#### Add theme to make the plot looks nicer"
   ]
  },
  {
   "cell_type": "code",
   "execution_count": null,
   "id": "3ca76438",
   "metadata": {},
   "outputs": [],
   "source": [
    "ggplot(plot_table, aes(x=logFC, y= -log10(PValue))) +\n",
    "  geom_point(aes(colour = Categories), size=1) +\n",
    "  geom_hline(yintercept=2, linetype=\"dashed\", \n",
    "             color = \"red\", size=0.5) +\n",
    "  geom_vline(xintercept=1, color = \"blue\", size=0.5) +\n",
    "  geom_vline(xintercept=-1, color = \"blue\", size=0.5) +\n",
    "  ggtitle(\"FSHD vs Control\") +\n",
    "  xlab(\"log2 Fold Change\") + ylab(\"log10 Pvalue\") +\n",
    "  theme_bw(base_size = 20) +\n",
    "  theme(panel.grid.major = element_blank(), panel.grid.minor = element_blank(),legend.title = element_text(size=35),\n",
    "  panel.background = element_blank(), axis.line = element_line(colour = \"black\"))"
   ]
  },
  {
   "cell_type": "markdown",
   "id": "add93eb0",
   "metadata": {},
   "source": [
    "#### Add manual colors"
   ]
  },
  {
   "cell_type": "code",
   "execution_count": null,
   "id": "390d7b63",
   "metadata": {},
   "outputs": [],
   "source": [
    "ggplot(plot_table, aes(x=logFC, y= -log10(PValue))) +\n",
    "  geom_point(aes(colour = Categories), size=1) +\n",
    "  geom_hline(yintercept=2, linetype=\"dashed\", \n",
    "             color = \"red\", size=0.5) +\n",
    "  geom_vline(xintercept=1, color = \"blue\", size=0.5) +\n",
    "  geom_vline(xintercept=-1, color = \"blue\", size=0.5) +\n",
    "  ggtitle(\"FSHD vs Control\") +\n",
    "  xlab(\"log2 Fold Change\") + ylab(\"log10 Pvalue\") +\n",
    "  theme_bw(base_size = 20) +\n",
    "  theme(panel.grid.major = element_blank(), panel.grid.minor = element_blank(),legend.title = element_text(size=35),\n",
    "  panel.background = element_blank(), axis.line = element_line(colour = \"black\")) +\n",
    "  scale_colour_manual(values = c(\"High in FSHD\"= \"darkcyan\", \"Low in FSHD\"=\"darkred\",\"No Changes\"= \"grey\")) "
   ]
  },
  {
   "cell_type": "markdown",
   "id": "8faed886",
   "metadata": {},
   "source": [
    "#### Label genes of interest "
   ]
  },
  {
   "cell_type": "code",
   "execution_count": null,
   "id": "8205f8e4-42c4-49fa-b249-3b5d67e05403",
   "metadata": {},
   "outputs": [],
   "source": [
    "### Store genes in a vector for labeing\n",
    "vc_labels <- head(Control_3_up,10)\n",
    "plot_table$genes <- rownames(plot_table)\n",
    "### Plot\n",
    "ggplot(plot_table, aes(x=logFC, y= -log10(PValue),label = genes)) +\n",
    "  geom_point(aes(colour = Categories), size=1) +\n",
    "  geom_hline(yintercept=2, linetype=\"dashed\", \n",
    "             color = \"red\", size=0.5) +\n",
    "  geom_vline(xintercept=1, color = \"blue\", size=0.5) +\n",
    "  geom_vline(xintercept=-1, color = \"blue\", size=0.5) +\n",
    "  ggtitle(\"FSHD vs Control\") +\n",
    "  xlab(\"log2 Fold Change\") + ylab(\"log10 Pvalue\") +\n",
    "  theme_bw(base_size = 20) +\n",
    "  theme(panel.grid.major = element_blank(), panel.grid.minor = element_blank(),legend.title = element_text(size=35),\n",
    "  panel.background = element_blank(), axis.line = element_line(colour = \"black\")) +\n",
    "  scale_colour_manual(values = c(\"High in FSHD\"= \"darkcyan\", \"Low in FSHD\"=\"darkred\",\"No Changes\"= \"grey\")) +\n",
    "  geom_label_repel(data= subset(plot_table, genes %in% vc_labels),segment.color = \"blue\",\n",
    "                    direction     = \"both\", size = 3,\n",
    "                   box.padding   = 0.1,force  = 4,\n",
    "                   point.padding = 0.1,max.time=10,max.overlaps = Inf)"
   ]
  },
  {
   "cell_type": "code",
   "execution_count": null,
   "id": "54ab5095-cb5f-4d22-9a94-67ffbe0c8e6b",
   "metadata": {},
   "outputs": [],
   "source": [
    "ggsave(file = \"Volcano_Control_3_up.pdf\",\n",
    "    width = 10, \n",
    "    height = 7)\n",
    "dev.off()"
   ]
  },
  {
   "cell_type": "code",
   "execution_count": null,
   "id": "f6527ecd-a5af-4833-ad78-9b6511af20da",
   "metadata": {},
   "outputs": [],
   "source": [
    "head(subset(plot_table, genes %in% vc_labels),50)"
   ]
  },
  {
   "cell_type": "code",
   "execution_count": null,
   "id": "89bb5d9f",
   "metadata": {},
   "outputs": [],
   "source": [
    "head(rownames(tpm))"
   ]
  },
  {
   "cell_type": "code",
   "execution_count": null,
   "id": "6e482e2f-6af3-4f07-b5db-783584c1c4c9",
   "metadata": {},
   "outputs": [],
   "source": [
    "# Write the DE gene lists \n",
    "\n",
    "write.table(Control_3_table, file=\"Control_table_Day3\",sep='\\t')"
   ]
  },
  {
   "cell_type": "markdown",
   "id": "8c0d9a07-f43c-46eb-9fa9-2b60cd3d5da3",
   "metadata": {},
   "source": [
    "# Exercise 3"
   ]
  },
  {
   "cell_type": "markdown",
   "id": "ee27dfff-532c-4fa1-a2b1-8b9d2828ed07",
   "metadata": {},
   "source": [
    "### Plot volcano plot for genes upregulated in FSHD2 Day3 compared to Day0"
   ]
  },
  {
   "cell_type": "markdown",
   "id": "9182530e-b6f9-4469-bb89-831c76d55fb6",
   "metadata": {},
   "source": [
    "### We use [enrichR](https://cran.r-project.org/web/packages/enrichR/vignettes/enrichR.html), which also has a [web tool](https://maayanlab.cloud/Enrichr/)."
   ]
  },
  {
   "cell_type": "code",
   "execution_count": null,
   "id": "43a858b6-f88d-432c-9e38-8d2687b4475d",
   "metadata": {},
   "outputs": [],
   "source": [
    "library(enrichR)"
   ]
  },
  {
   "cell_type": "code",
   "execution_count": null,
   "id": "cc591452-c071-47cf-a340-4f9725573da2",
   "metadata": {},
   "outputs": [],
   "source": [
    "dbs <- c(\"GO_Molecular_Function_2021\", \"GO_Cellular_Component_2021\", \"GO_Biological_Process_2021\")\n",
    "enriched <- enrichr(Control_3_up, dbs)"
   ]
  },
  {
   "cell_type": "code",
   "execution_count": null,
   "id": "05589361-ccf3-4ead-9eae-93617088f62e",
   "metadata": {},
   "outputs": [],
   "source": [
    "head(enriched[[\"GO_Biological_Process_2021\"]])"
   ]
  },
  {
   "cell_type": "code",
   "execution_count": null,
   "id": "f10c96c9-ea12-41b7-a645-9317d0b80718",
   "metadata": {},
   "outputs": [],
   "source": [
    "plotEnrich(enriched[[3]], showTerms = 20, numChar = 40, y = \"Count\", orderBy = \"P.value\")"
   ]
  },
  {
   "cell_type": "markdown",
   "id": "9e3cfd06-2160-484e-9691-a99e4476570c",
   "metadata": {},
   "source": [
    "\n",
    "\n",
    "# Homework\n",
    "- Get comfortable in Jupyter notebook hub\n",
    "- Make at least one plot using ggplot in Jupyter R notebook (check tutorial links below)\n",
    "- Think about some applications of differential gene expression analysis\n",
    "\n",
    "# Useful links\n",
    "- [Intro to Jupyter notebooks](https://towardsdatascience.com/a-beginners-tutorial-to-jupyter-notebooks-1b2f8705888a)\n",
    "- [ggplot tutorial](http://r-statistics.co/Complete-Ggplot2-Tutorial-Part1-With-R-Code.html)  \n",
    "- [Another ggplot tutorial](https://www.publichealth.columbia.edu/sites/default/files/media/fdawg_ggplot2.html)\n",
    "- [edgeR tutorial](https://web.stanford.edu/class/bios221/labs/rnaseq/lab_4_rnaseq.html)"
   ]
  },
  {
   "cell_type": "code",
   "execution_count": null,
   "id": "89c00afe-df6c-49ac-bcca-601534eafbb0",
   "metadata": {},
   "outputs": [],
   "source": []
  }
 ],
 "metadata": {
  "kernelspec": {
   "display_name": "R",
   "language": "R",
   "name": "ir"
  },
  "language_info": {
   "codemirror_mode": "r",
   "file_extension": ".r",
   "mimetype": "text/x-r-source",
   "name": "R",
   "pygments_lexer": "r",
   "version": "4.0.4"
  }
 },
 "nbformat": 4,
 "nbformat_minor": 5
}
