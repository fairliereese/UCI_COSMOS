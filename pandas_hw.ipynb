{
 "cells": [
  {
   "cell_type": "markdown",
   "id": "earlier-wound",
   "metadata": {},
   "source": [
    "## Pandas exercise\n",
    "______________________"
   ]
  },
  {
   "cell_type": "markdown",
   "id": "three-country",
   "metadata": {},
   "source": [
    "For those of you who are interested in challenging yourselves, here's a quick exercise in manipulating data matrices into a workable format."
   ]
  },
  {
   "cell_type": "markdown",
   "id": "together-equality",
   "metadata": {},
   "source": [
    "By default, [kallisto](https://pachterlab.github.io/kallisto/) outputs a counts matrix for each sample. This means that for each sample that you've processed you generated a separate file. What do these individual files look like? "
   ]
  },
  {
   "cell_type": "code",
   "execution_count": 2,
   "id": "pacific-strike",
   "metadata": {},
   "outputs": [],
   "source": [
    "import pandas as pd"
   ]
  },
  {
   "cell_type": "code",
   "execution_count": 8,
   "id": "athletic-explosion",
   "metadata": {},
   "outputs": [
    {
     "data": {
      "text/html": [
       "<div>\n",
       "<style scoped>\n",
       "    .dataframe tbody tr th:only-of-type {\n",
       "        vertical-align: middle;\n",
       "    }\n",
       "\n",
       "    .dataframe tbody tr th {\n",
       "        vertical-align: top;\n",
       "    }\n",
       "\n",
       "    .dataframe thead th {\n",
       "        text-align: right;\n",
       "    }\n",
       "</style>\n",
       "<table border=\"1\" class=\"dataframe\">\n",
       "  <thead>\n",
       "    <tr style=\"text-align: right;\">\n",
       "      <th></th>\n",
       "      <th>target_id</th>\n",
       "      <th>length</th>\n",
       "      <th>eff_length</th>\n",
       "      <th>est_counts</th>\n",
       "      <th>tpm</th>\n",
       "    </tr>\n",
       "  </thead>\n",
       "  <tbody>\n",
       "    <tr>\n",
       "      <th>0</th>\n",
       "      <td>ENST00000456328.2</td>\n",
       "      <td>1657</td>\n",
       "      <td>1548.4200</td>\n",
       "      <td>0.078546</td>\n",
       "      <td>0.004365</td>\n",
       "    </tr>\n",
       "    <tr>\n",
       "      <th>1</th>\n",
       "      <td>ENST00000450305.2</td>\n",
       "      <td>632</td>\n",
       "      <td>523.4170</td>\n",
       "      <td>0.000000</td>\n",
       "      <td>0.000000</td>\n",
       "    </tr>\n",
       "    <tr>\n",
       "      <th>2</th>\n",
       "      <td>ENST00000488147.1</td>\n",
       "      <td>1351</td>\n",
       "      <td>1242.4200</td>\n",
       "      <td>5.916130</td>\n",
       "      <td>0.409730</td>\n",
       "    </tr>\n",
       "    <tr>\n",
       "      <th>3</th>\n",
       "      <td>ENST00000619216.1</td>\n",
       "      <td>68</td>\n",
       "      <td>13.5858</td>\n",
       "      <td>0.000000</td>\n",
       "      <td>0.000000</td>\n",
       "    </tr>\n",
       "    <tr>\n",
       "      <th>4</th>\n",
       "      <td>ENST00000469289.1</td>\n",
       "      <td>535</td>\n",
       "      <td>426.5120</td>\n",
       "      <td>0.000000</td>\n",
       "      <td>0.000000</td>\n",
       "    </tr>\n",
       "  </tbody>\n",
       "</table>\n",
       "</div>"
      ],
      "text/plain": [
       "           target_id  length  eff_length  est_counts       tpm\n",
       "0  ENST00000456328.2    1657   1548.4200    0.078546  0.004365\n",
       "1  ENST00000450305.2     632    523.4170    0.000000  0.000000\n",
       "2  ENST00000488147.1    1351   1242.4200    5.916130  0.409730\n",
       "3  ENST00000619216.1      68     13.5858    0.000000  0.000000\n",
       "4  ENST00000469289.1     535    426.5120    0.000000  0.000000"
      ]
     },
     "execution_count": 8,
     "metadata": {},
     "output_type": "execute_result"
    }
   ],
   "source": [
    "f = 'kallisto_counts/Control_78_Day_0_Rep3.tsv'\n",
    "df = pd.read_csv(f, sep='\\t') \n",
    "df.head()"
   ]
  },
  {
   "cell_type": "markdown",
   "id": "dirty-scheme",
   "metadata": {},
   "source": [
    "The data in each of these files have information about expression on the **transcript level**. However we want to examine expression of **genes**, not transcripts. "
   ]
  },
  {
   "cell_type": "markdown",
   "id": "accredited-cambridge",
   "metadata": {},
   "source": [
    "Additionally, the expression profiles of each sample are separated out by sample. We want to concatenate our matrices such that we have a **gene by sample** expression matrix. We can examine the counts matrix that was provided for us to get a rough idea of what our goal is."
   ]
  },
  {
   "cell_type": "code",
   "execution_count": 9,
   "id": "classical-newport",
   "metadata": {},
   "outputs": [
    {
     "data": {
      "text/html": [
       "<div>\n",
       "<style scoped>\n",
       "    .dataframe tbody tr th:only-of-type {\n",
       "        vertical-align: middle;\n",
       "    }\n",
       "\n",
       "    .dataframe tbody tr th {\n",
       "        vertical-align: top;\n",
       "    }\n",
       "\n",
       "    .dataframe thead th {\n",
       "        text-align: right;\n",
       "    }\n",
       "</style>\n",
       "<table border=\"1\" class=\"dataframe\">\n",
       "  <thead>\n",
       "    <tr style=\"text-align: right;\">\n",
       "      <th></th>\n",
       "      <th>Unnamed: 0</th>\n",
       "      <th>Control_78_Day_0_Rep3</th>\n",
       "      <th>Control_78_Day_0_Rep4</th>\n",
       "      <th>Control_78_Day_3_Rep1</th>\n",
       "      <th>Control_78_Day_3_Rep2</th>\n",
       "      <th>FSHD2_19_Day_0_Rep1</th>\n",
       "      <th>FSHD2_19_Day_0_Rep2</th>\n",
       "      <th>FSHD2_19_Day_3_Rep1</th>\n",
       "      <th>FSHD2_19_Day_3_Rep2</th>\n",
       "    </tr>\n",
       "  </thead>\n",
       "  <tbody>\n",
       "    <tr>\n",
       "      <th>0</th>\n",
       "      <td>ENSG00000223972.5|DDX11L1</td>\n",
       "      <td>0</td>\n",
       "      <td>2</td>\n",
       "      <td>0</td>\n",
       "      <td>0</td>\n",
       "      <td>0</td>\n",
       "      <td>0</td>\n",
       "      <td>0</td>\n",
       "      <td>0</td>\n",
       "    </tr>\n",
       "    <tr>\n",
       "      <th>1</th>\n",
       "      <td>ENSG00000227232.5|WASH7P</td>\n",
       "      <td>6</td>\n",
       "      <td>20</td>\n",
       "      <td>6</td>\n",
       "      <td>13</td>\n",
       "      <td>9</td>\n",
       "      <td>6</td>\n",
       "      <td>0</td>\n",
       "      <td>14</td>\n",
       "    </tr>\n",
       "    <tr>\n",
       "      <th>2</th>\n",
       "      <td>ENSG00000278267.1|MIR6859-1</td>\n",
       "      <td>0</td>\n",
       "      <td>0</td>\n",
       "      <td>0</td>\n",
       "      <td>0</td>\n",
       "      <td>0</td>\n",
       "      <td>0</td>\n",
       "      <td>0</td>\n",
       "      <td>0</td>\n",
       "    </tr>\n",
       "    <tr>\n",
       "      <th>3</th>\n",
       "      <td>ENSG00000243485.5|MIR1302-2HG</td>\n",
       "      <td>0</td>\n",
       "      <td>0</td>\n",
       "      <td>0</td>\n",
       "      <td>0</td>\n",
       "      <td>0</td>\n",
       "      <td>0</td>\n",
       "      <td>0</td>\n",
       "      <td>0</td>\n",
       "    </tr>\n",
       "    <tr>\n",
       "      <th>4</th>\n",
       "      <td>ENSG00000284332.1|MIR1302-2</td>\n",
       "      <td>0</td>\n",
       "      <td>0</td>\n",
       "      <td>0</td>\n",
       "      <td>0</td>\n",
       "      <td>0</td>\n",
       "      <td>0</td>\n",
       "      <td>0</td>\n",
       "      <td>0</td>\n",
       "    </tr>\n",
       "  </tbody>\n",
       "</table>\n",
       "</div>"
      ],
      "text/plain": [
       "                      Unnamed: 0  Control_78_Day_0_Rep3  \\\n",
       "0      ENSG00000223972.5|DDX11L1                      0   \n",
       "1       ENSG00000227232.5|WASH7P                      6   \n",
       "2    ENSG00000278267.1|MIR6859-1                      0   \n",
       "3  ENSG00000243485.5|MIR1302-2HG                      0   \n",
       "4    ENSG00000284332.1|MIR1302-2                      0   \n",
       "\n",
       "   Control_78_Day_0_Rep4  Control_78_Day_3_Rep1  Control_78_Day_3_Rep2  \\\n",
       "0                      2                      0                      0   \n",
       "1                     20                      6                     13   \n",
       "2                      0                      0                      0   \n",
       "3                      0                      0                      0   \n",
       "4                      0                      0                      0   \n",
       "\n",
       "   FSHD2_19_Day_0_Rep1  FSHD2_19_Day_0_Rep2  FSHD2_19_Day_3_Rep1  \\\n",
       "0                    0                    0                    0   \n",
       "1                    9                    6                    0   \n",
       "2                    0                    0                    0   \n",
       "3                    0                    0                    0   \n",
       "4                    0                    0                    0   \n",
       "\n",
       "   FSHD2_19_Day_3_Rep2  \n",
       "0                    0  \n",
       "1                   14  \n",
       "2                    0  \n",
       "3                    0  \n",
       "4                    0  "
      ]
     },
     "execution_count": 9,
     "metadata": {},
     "output_type": "execute_result"
    }
   ],
   "source": [
    "f = 'kallisto_counts/fshd.counts.matrix.csv'\n",
    "df = pd.read_csv(f, sep=',')\n",
    "df.head()"
   ]
  },
  {
   "cell_type": "markdown",
   "id": "discrete-construction",
   "metadata": {},
   "source": [
    "Finally I will provide one more resource. We need a way to map transcript IDs to gene IDs. This file is provided at `/pub/erebboah/cosmos/FSHD_bulkRNA/ref/hg38.gene_transcripts.tab`. This is what the file looks like. Here, 'tid' stands for transcript ID, 'gname' stands for gene name, and 'gid' stands for gene ID."
   ]
  },
  {
   "cell_type": "code",
   "execution_count": 11,
   "id": "normal-community",
   "metadata": {},
   "outputs": [
    {
     "data": {
      "text/html": [
       "<div>\n",
       "<style scoped>\n",
       "    .dataframe tbody tr th:only-of-type {\n",
       "        vertical-align: middle;\n",
       "    }\n",
       "\n",
       "    .dataframe tbody tr th {\n",
       "        vertical-align: top;\n",
       "    }\n",
       "\n",
       "    .dataframe thead th {\n",
       "        text-align: right;\n",
       "    }\n",
       "</style>\n",
       "<table border=\"1\" class=\"dataframe\">\n",
       "  <thead>\n",
       "    <tr style=\"text-align: right;\">\n",
       "      <th></th>\n",
       "      <th>gid</th>\n",
       "      <th>gname</th>\n",
       "      <th>tid</th>\n",
       "    </tr>\n",
       "  </thead>\n",
       "  <tbody>\n",
       "    <tr>\n",
       "      <th>0</th>\n",
       "      <td>ENSG00000223972.5</td>\n",
       "      <td>DDX11L1</td>\n",
       "      <td>ENST00000456328.2</td>\n",
       "    </tr>\n",
       "    <tr>\n",
       "      <th>1</th>\n",
       "      <td>ENSG00000223972.5</td>\n",
       "      <td>DDX11L1</td>\n",
       "      <td>ENST00000450305.2</td>\n",
       "    </tr>\n",
       "    <tr>\n",
       "      <th>2</th>\n",
       "      <td>ENSG00000227232.5</td>\n",
       "      <td>WASH7P</td>\n",
       "      <td>ENST00000488147.1</td>\n",
       "    </tr>\n",
       "    <tr>\n",
       "      <th>3</th>\n",
       "      <td>ENSG00000278267.1</td>\n",
       "      <td>MIR6859-1</td>\n",
       "      <td>ENST00000619216.1</td>\n",
       "    </tr>\n",
       "    <tr>\n",
       "      <th>4</th>\n",
       "      <td>ENSG00000243485.5</td>\n",
       "      <td>MIR1302-2HG</td>\n",
       "      <td>ENST00000469289.1</td>\n",
       "    </tr>\n",
       "  </tbody>\n",
       "</table>\n",
       "</div>"
      ],
      "text/plain": [
       "                 gid        gname                tid\n",
       "0  ENSG00000223972.5      DDX11L1  ENST00000456328.2\n",
       "1  ENSG00000223972.5      DDX11L1  ENST00000450305.2\n",
       "2  ENSG00000227232.5       WASH7P  ENST00000488147.1\n",
       "3  ENSG00000278267.1    MIR6859-1  ENST00000619216.1\n",
       "4  ENSG00000243485.5  MIR1302-2HG  ENST00000469289.1"
      ]
     },
     "execution_count": 11,
     "metadata": {},
     "output_type": "execute_result"
    }
   ],
   "source": [
    "f = 'ref/hg38.gene_transcripts.tab'\n",
    "df = pd.read_csv(f, sep='\\t', header=None, \n",
    "                 usecols=[0,1,2], \n",
    "                 names=['gid', 'gname', 'tid'])\n",
    "df.head()"
   ]
  },
  {
   "cell_type": "markdown",
   "id": "static-oasis",
   "metadata": {},
   "source": [
    "A few closing notes:\n",
    "* use the `est_counts` column from the kallisto output files \n",
    "* you can either use gene ID or gene name (or both!) as your gene identifier, gene IDs are typically more reliable though because there are some sneaky duplicate gene IDs for different genes 💀\n",
    "\n",
    "Best of luck!"
   ]
  }
 ],
 "metadata": {
  "kernelspec": {
   "display_name": "Python 3",
   "language": "python",
   "name": "python3"
  },
  "language_info": {
   "codemirror_mode": {
    "name": "ipython",
    "version": 3
   },
   "file_extension": ".py",
   "mimetype": "text/x-python",
   "name": "python",
   "nbconvert_exporter": "python",
   "pygments_lexer": "ipython3",
   "version": "3.7.4"
  }
 },
 "nbformat": 4,
 "nbformat_minor": 5
}
