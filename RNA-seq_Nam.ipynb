{
 "cells": [
  {
   "cell_type": "markdown",
   "id": "2cd1bbf8-21ce-42ed-9eee-e583d5f4cbc7",
   "metadata": {},
   "source": [
    "### Load packages\n",
    "library(edgeR)\n",
    "library(tidyverse)\n",
    "library(FactoMineR)\n",
    "library(factoextra)\n",
    "library(dplyr)\n",
    "library(AnnotationDbi)\n",
    "library(ggplot2)\n",
    "library(ggbiplot)\n",
    "library(ComplexHeatmap)\n",
    "library(RColorBrewer)\n",
    "library(clipr)\n",
    "library(sva)\n",
    "library(UpSetR)\n",
    "library(GenomicFeatures)\n",
    "library(tidyr)\n",
    "library(tibble)\n",
    "library(eulerr)\n",
    "library(enrichR)\n",
    "library(ggrepel)\n",
    "library(clusterProfiler)\n",
    "library(ReactomePA)\n",
    "library(enrichplot)\n",
    "library(DOSE)\n",
    "library(ggpubr)\n",
    "library(\"FactoClass\")\n",
    "library(\"scatterplot3d\")\n",
    "library(stringr)"
   ]
  },
  {
   "cell_type": "markdown",
   "id": "a58797b4-684c-4985-8dc5-c676e4182a79",
   "metadata": {},
   "source": [
    "##### merge *genes.results files\n",
    "temp = list.files(pattern=\"*genes.*\", recursive = TRUE)\n",
    "myfiles = lapply(temp, read.delim)\n",
    "##### select raw count\n",
    "data = lapply(myfiles, function(x)  { x[c(1,5)]})\n",
    "##### merge all files\n",
    "data  <- Reduce(function(x, y) merge(x, y, by = \"gene_id\", all = TRUE), data )\n",
    "#### name the columns\n",
    "temp <- str_replace(temp,\".genes.results\",\"\")\n",
    "temp = c(\"gene_id\", c(temp))\n",
    "colnames(data) = temp\n",
    "#### Change rownames\n",
    "rownames(data) <- data$gene_id\n",
    "data <- data[,-1]"
   ]
  },
  {
   "cell_type": "markdown",
   "id": "ed855e52-2dff-4885-96d0-dd087beffaea",
   "metadata": {},
   "source": [
    "head(data)"
   ]
  }
 ],
 "metadata": {
  "kernelspec": {
   "display_name": "R",
   "language": "R",
   "name": "ir"
  },
  "language_info": {
   "codemirror_mode": "r",
   "file_extension": ".r",
   "mimetype": "text/x-r-source",
   "name": "R",
   "pygments_lexer": "r",
   "version": "4.0.4"
  }
 },
 "nbformat": 4,
 "nbformat_minor": 5
}
