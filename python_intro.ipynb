{
 "cells": [
  {
   "cell_type": "markdown",
   "id": "intimate-basics",
   "metadata": {},
   "source": [
    "# Intro to Python, pandas, and iPython notebooks "
   ]
  },
  {
   "cell_type": "markdown",
   "id": "human-administrator",
   "metadata": {},
   "source": [
    "### iPython notebooks "
   ]
  },
  {
   "cell_type": "markdown",
   "id": "extended-authorization",
   "metadata": {},
   "source": [
    "Welcome to jupyter notebook on HPC (high-performance compute cluster). iPython notebooks / jupyter notebooks are interactive multimedia environments to write and run code.\n",
    "\n",
    "For those who have programmed and run their own programs before, perhaps you're more familiar with running your program once from start to end. iPython notebooks provide a way to run code more interactively."
   ]
  },
  {
   "cell_type": "markdown",
   "id": "engaging-snapshot",
   "metadata": {},
   "source": [
    "Each unit in a jupyter notebook is called a cell. Typically when I use ipynbs, I run one cell at a time. You can run a cell by clicking on it and pressing shift+enter. Try it on the cell below."
   ]
  },
  {
   "cell_type": "code",
   "execution_count": 1,
   "id": "artificial-europe",
   "metadata": {},
   "outputs": [
    {
     "name": "stdout",
     "output_type": "stream",
     "text": [
      "hello world\n"
     ]
    }
   ],
   "source": [
    "print('hello world')"
   ]
  },
  {
   "cell_type": "markdown",
   "id": "hydraulic-projection",
   "metadata": {},
   "source": [
    "Another really nice feature of ipynbs that particularly well-suited for data science is the persistence of variables after running a cell of code. That is to say, if you run some code in one cell, you can then access it in another cell and investigate what it is. This allows you to run small chunks of code at a time, make sure that they're doing what you want them to, and then to continue using your variables.\n",
    "\n",
    "Take the following example, say we have a list and we want to swap out all instances of 'dog' for 'cat'"
   ]
  },
  {
   "cell_type": "code",
   "execution_count": 2,
   "id": "progressive-feedback",
   "metadata": {},
   "outputs": [],
   "source": [
    "pet_list = ['dog', 'cat', 'guinea_pig', 'lizard', 'cat', 'dog', 'mouse']"
   ]
  },
  {
   "cell_type": "markdown",
   "id": "asian-affairs",
   "metadata": {},
   "source": [
    "First, we can see if we can identify which parts of the list contain 'dog' instances."
   ]
  },
  {
   "cell_type": "code",
   "execution_count": 3,
   "id": "infectious-anderson",
   "metadata": {},
   "outputs": [],
   "source": [
    "# loop through the list and find the indices of the list where the element is 'dog'\n",
    "dog_indices = []\n",
    "for i, element in enumerate(pet_list):\n",
    "    if element == 'dog':\n",
    "        dog_indices.append(i)"
   ]
  },
  {
   "cell_type": "code",
   "execution_count": 4,
   "id": "bizarre-characteristic",
   "metadata": {},
   "outputs": [
    {
     "name": "stdout",
     "output_type": "stream",
     "text": [
      "\n",
      "dog\n",
      "True\n",
      "\n",
      "dog\n",
      "True\n"
     ]
    }
   ],
   "source": [
    "# make sure that each of the indices we found are 'dog'\n",
    "for i in dog_indices:\n",
    "    print()\n",
    "    print(pet_list[i])\n",
    "    print(pet_list[i] == 'dog')"
   ]
  },
  {
   "cell_type": "code",
   "execution_count": 5,
   "id": "gothic-medline",
   "metadata": {},
   "outputs": [],
   "source": [
    "# now that we can be confident that we've identified all the elements of the list that are 'dog', we can replace them\n",
    "for i in dog_indices:\n",
    "    pet_list[i] = 'cat'"
   ]
  },
  {
   "cell_type": "code",
   "execution_count": 6,
   "id": "visible-bread",
   "metadata": {},
   "outputs": [
    {
     "name": "stdout",
     "output_type": "stream",
     "text": [
      "['cat', 'cat', 'guinea_pig', 'lizard', 'cat', 'cat', 'mouse']\n",
      "False\n"
     ]
    }
   ],
   "source": [
    "# and finally, verify that all of the elements of the list have been replaced\n",
    "print(pet_list)\n",
    "print('dog' in pet_list)"
   ]
  },
  {
   "cell_type": "markdown",
   "id": "funded-finnish",
   "metadata": {},
   "source": [
    "This is a pretty simple example, but hopefully it demonstrates the value of being able to stop and examine what your code is doing while you're writing it, instead of debugging it by running everything over again every single time. This convenience really shines when you're dealing with big data and don't have to bother loading it / transforming it (which can be very time consuming steps) every time you want to try something new. "
   ]
  },
  {
   "cell_type": "markdown",
   "id": "mobile-compilation",
   "metadata": {},
   "source": [
    "An additional nice functionality of ipynbs is their direct compatibility with Markdown. For each cell that you write, you can choose whether it should be interpreted as code, markdown, or raw text. Markdown supports *text formatting* **such as this**. You can also make headings to different sections of your jupyter notebook, which you can see in the other parts of this notebook."
   ]
  },
  {
   "cell_type": "markdown",
   "id": "realistic-requirement",
   "metadata": {},
   "source": [
    "### Python"
   ]
  },
  {
   "cell_type": "markdown",
   "id": "changed-demand",
   "metadata": {},
   "source": [
    "This notebook is running Python. Python is a programming language that is commonly used in bioinformatics. It is (in my opinion) easy to understand and write, and has really powerful libraries that you can load for data science and visualization. I'm hoping a lot of you know how to program already but I'll go over some basic Python syntax and programming basics here."
   ]
  },
  {
   "cell_type": "code",
   "execution_count": 20,
   "id": "grave-theme",
   "metadata": {},
   "outputs": [],
   "source": [
    "import pandas as pd # library for data matrix manipulation\n",
    "import seaborn as sns # library for plotting pandas-formatted data\n",
    "# by the way, lines that start with '#' are called comments\n",
    "# add them to your code to remember what you were doing"
   ]
  },
  {
   "cell_type": "code",
   "execution_count": 8,
   "id": "faced-stereo",
   "metadata": {},
   "outputs": [
    {
     "name": "stdout",
     "output_type": "stream",
     "text": [
      "frog\n",
      "bat\n",
      "axlotl\n"
     ]
    }
   ],
   "source": [
    "my_list = ['frog', 'bat', 'axlotl'] # list\n",
    "print(my_list[0]) # indexing a list (python is a 0-based language)\n",
    "print(my_list[1])\n",
    "print(my_list[2])"
   ]
  },
  {
   "cell_type": "code",
   "execution_count": 9,
   "id": "lucky-multiple",
   "metadata": {},
   "outputs": [
    {
     "name": "stdout",
     "output_type": "stream",
     "text": [
      "amphibian\n",
      "mammal\n",
      "amphibian\n"
     ]
    }
   ],
   "source": [
    "my_dict = {'axlotl': 'amphibian', 'bat': 'mammal', 'frog': 'amphibian'} # dictionary - store key:value pairs\n",
    "print(my_dict['axlotl'])\n",
    "print(my_dict['bat'])\n",
    "print(my_dict['frog'])"
   ]
  },
  {
   "cell_type": "code",
   "execution_count": 12,
   "id": "mighty-hunger",
   "metadata": {},
   "outputs": [
    {
     "data": {
      "text/html": [
       "<div>\n",
       "<style scoped>\n",
       "    .dataframe tbody tr th:only-of-type {\n",
       "        vertical-align: middle;\n",
       "    }\n",
       "\n",
       "    .dataframe tbody tr th {\n",
       "        vertical-align: top;\n",
       "    }\n",
       "\n",
       "    .dataframe thead th {\n",
       "        text-align: right;\n",
       "    }\n",
       "</style>\n",
       "<table border=\"1\" class=\"dataframe\">\n",
       "  <thead>\n",
       "    <tr style=\"text-align: right;\">\n",
       "      <th></th>\n",
       "      <th>kind</th>\n",
       "    </tr>\n",
       "  </thead>\n",
       "  <tbody>\n",
       "    <tr>\n",
       "      <th>axlotl</th>\n",
       "      <td>amphibian</td>\n",
       "    </tr>\n",
       "    <tr>\n",
       "      <th>bat</th>\n",
       "      <td>mammal</td>\n",
       "    </tr>\n",
       "    <tr>\n",
       "      <th>frog</th>\n",
       "      <td>amphibian</td>\n",
       "    </tr>\n",
       "  </tbody>\n",
       "</table>\n",
       "</div>"
      ],
      "text/plain": [
       "             kind\n",
       "axlotl  amphibian\n",
       "bat        mammal\n",
       "frog    amphibian"
      ]
     },
     "execution_count": 12,
     "metadata": {},
     "output_type": "execute_result"
    }
   ],
   "source": [
    "data = ['amphibian', 'mammal', 'amphibian']\n",
    "ind = ['axlotl', 'bat', 'frog']\n",
    "df = pd.DataFrame(data=data, index=ind, columns=['kind']) # pandas data frame - I work with these every day!\n",
    "df"
   ]
  },
  {
   "cell_type": "code",
   "execution_count": 15,
   "id": "exact-ghost",
   "metadata": {},
   "outputs": [
    {
     "name": "stdout",
     "output_type": "stream",
     "text": [
      "0\n",
      "1\n",
      "2\n",
      "3\n",
      "4\n",
      "5\n",
      "6\n",
      "7\n",
      "8\n",
      "9\n",
      "\n",
      "frog\n",
      "bat\n",
      "axlotl\n",
      "\n",
      "Animal at 0: frog\n",
      "Animal at 1: bat\n",
      "Animal at 2: axlotl\n"
     ]
    }
   ],
   "source": [
    "# for loops\n",
    "\n",
    "# iterate until a certain number\n",
    "for i in range(10):\n",
    "    print(i)\n",
    "    \n",
    "print()\n",
    "\n",
    "# iterate through a list\n",
    "my_list = ['frog', 'bat', 'axlotl'] # list\n",
    "for animal in my_list:\n",
    "    print(animal)\n",
    "    \n",
    "print()\n",
    "    \n",
    "# iterate through a list while getting the number of each iteration using enumerate()\n",
    "for i, animal in enumerate(my_list):\n",
    "    print('Animal at {}: {}'.format(i, animal)) # string formatting - this is also useful"
   ]
  },
  {
   "cell_type": "code",
   "execution_count": 19,
   "id": "thermal-prague",
   "metadata": {},
   "outputs": [
    {
     "name": "stdout",
     "output_type": "stream",
     "text": [
      "Animal frog is an amphibian\n",
      "Animal bat is not an amphibian\n",
      "Animal axlotl is an amphibian\n",
      "\n",
      "First animal is frog\n",
      "Fount a bat\n",
      "Found an axlotl\n"
     ]
    }
   ],
   "source": [
    "# if / else blocks - execute code based on whether or not a condition is met\n",
    "for animal in my_list:\n",
    "    if animal == 'frog' or animal == 'axlotl': # or logic - one or the other condition is met\n",
    "        print('Animal {} is an amphibian'.format(animal))\n",
    "    else:\n",
    "        print('Animal {} is not an amphibian'.format(animal))\n",
    "        \n",
    "print()\n",
    "\n",
    "first_element = True # boolean variable, can be True or False\n",
    "for animal in my_list:\n",
    "    if first_element and animal == 'frog': # and logic - both conditions must be true\n",
    "        print('First animal is frog')\n",
    "    elif first_element and animal == 'bat': # elif: the following will execute only if the first part does not. in this case, it will never run.\n",
    "        print('First animal is bat')\n",
    "    else:\n",
    "        # you can index strings the same way you can index lists. here we're just trying to see if the word\n",
    "        # starts with a vowel\n",
    "        if animal[0] == 'a' or animal[0] == 'e' or animal[0] == 'i' or animal[0] == 'o' or animal[0] == 'u': \n",
    "            print('Found an {}'.format(animal))\n",
    "        else:\n",
    "            print('Fount a {}'.format(animal))\n",
    "    \n",
    "    first_element = False"
   ]
  },
  {
   "cell_type": "code",
   "execution_count": 21,
   "id": "julian-young",
   "metadata": {},
   "outputs": [
    {
     "name": "stdout",
     "output_type": "stream",
     "text": [
      "First amphibian (frog) occurs at index 3\n"
     ]
    }
   ],
   "source": [
    "# while loops - execute code until a condition is met\n",
    "# useful when you're not sure when something's going to be done ie you don't know the exact index\n",
    "my_list = ['cat', 'bat', 'planarian', 'frog', 'axlotl']\n",
    "i = 0\n",
    "while my_list[i] != 'frog' and my_list[i] != 'axlotl': # inequality, check if something is not equal to something else\n",
    "    i += 1 # += operator, increment by 1\n",
    "print('First amphibian ({}) occurs at index {}'.format(my_list[i], i))"
   ]
  },
  {
   "cell_type": "code",
   "execution_count": null,
   "id": "burning-pillow",
   "metadata": {},
   "outputs": [],
   "source": [
    "# list indexing / slicing\n",
    "\n",
    "# access individual elements using individual numbers \n",
    "# 0 is first element, -1 is last element\n",
    "print(my_list[0])\n",
    "\n",
    "print()\n",
    "\n",
    "# slice "
   ]
  }
 ],
 "metadata": {
  "kernelspec": {
   "display_name": "Python 3",
   "language": "python",
   "name": "python3"
  },
  "language_info": {
   "codemirror_mode": {
    "name": "ipython",
    "version": 3
   },
   "file_extension": ".py",
   "mimetype": "text/x-python",
   "name": "python",
   "nbconvert_exporter": "python",
   "pygments_lexer": "ipython3",
   "version": "3.7.4"
  }
 },
 "nbformat": 4,
 "nbformat_minor": 5
}
