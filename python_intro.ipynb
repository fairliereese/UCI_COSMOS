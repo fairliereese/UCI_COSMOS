{
 "cells": [
  {
   "cell_type": "markdown",
   "id": "foster-binary",
   "metadata": {},
   "source": [
    "# Intro to Python, pandas, and iPython notebooks "
   ]
  },
  {
   "cell_type": "markdown",
   "id": "amino-hospital",
   "metadata": {},
   "source": [
    "### iPython notebooks "
   ]
  },
  {
   "cell_type": "markdown",
   "id": "lesser-detroit",
   "metadata": {},
   "source": [
    "Welcome to jupyter notebook on HPC (high-performance compute cluster). iPython notebooks / jupyter notebooks are interactive multimedia environments to write and run code.\n",
    "\n",
    "Here is the link: https://hpc3.rcic.uci.edu/biojhub3/\n",
    "Please choose the \"containerized notebook image\" with \"R4.0\n",
    "\n",
    "For those who have programmed and run their own programs before, perhaps you're more familiar with running your program once from start to end. iPython notebooks provide a way to run code more interactively."
   ]
  },
  {
   "cell_type": "markdown",
   "id": "expired-degree",
   "metadata": {},
   "source": [
    "Each unit in a jupyter notebook is called a cell. Typically when I use ipynbs, I run one cell at a time. You can run a cell by clicking on it and pressing shift+enter. Try it on the cell below."
   ]
  },
  {
   "cell_type": "code",
   "execution_count": 1,
   "id": "dominican-blowing",
   "metadata": {},
   "outputs": [
    {
     "name": "stdout",
     "output_type": "stream",
     "text": [
      "hello world\n"
     ]
    }
   ],
   "source": [
    "print('hello world')"
   ]
  },
  {
   "cell_type": "markdown",
   "id": "confirmed-lending",
   "metadata": {},
   "source": [
    "Another really nice feature of ipynbs that particularly well-suited for data science is the persistence of variables after running a cell of code. That is to say, if you run some code in one cell, you can then access it in another cell and investigate what it is. This allows you to run small chunks of code at a time, make sure that they're doing what you want them to, and then to continue using your variables.\n",
    "\n",
    "Take the following example, say we have a list and we want to swap out all instances of 'dog' for 'cat'"
   ]
  },
  {
   "cell_type": "code",
   "execution_count": 2,
   "id": "passive-quarter",
   "metadata": {},
   "outputs": [],
   "source": [
    "pet_list = ['dog', 'cat', 'guinea_pig', 'lizard', 'cat', 'dog', 'mouse']"
   ]
  },
  {
   "cell_type": "markdown",
   "id": "junior-signature",
   "metadata": {},
   "source": [
    "First, we can see if we can identify which parts of the list contain 'dog' instances."
   ]
  },
  {
   "cell_type": "code",
   "execution_count": 3,
   "id": "atmospheric-printing",
   "metadata": {},
   "outputs": [],
   "source": [
    "# loop through the list and find the indices of the list where the element is 'dog'\n",
    "dog_indices = []\n",
    "for i, element in enumerate(pet_list):\n",
    "    if element == 'dog':\n",
    "        dog_indices.append(i)"
   ]
  },
  {
   "cell_type": "code",
   "execution_count": 4,
   "id": "defined-bulgaria",
   "metadata": {},
   "outputs": [
    {
     "name": "stdout",
     "output_type": "stream",
     "text": [
      "\n",
      "dog\n",
      "True\n",
      "\n",
      "dog\n",
      "True\n"
     ]
    }
   ],
   "source": [
    "# make sure that each of the indices we found are 'dog'\n",
    "for i in dog_indices:\n",
    "    print()\n",
    "    print(pet_list[i])\n",
    "    print(pet_list[i] == 'dog')"
   ]
  },
  {
   "cell_type": "code",
   "execution_count": 5,
   "id": "transsexual-rover",
   "metadata": {},
   "outputs": [],
   "source": [
    "# now that we can be confident that we've identified all the elements of the list that are 'dog', we can replace them\n",
    "for i in dog_indices:\n",
    "    pet_list[i] = 'cat'"
   ]
  },
  {
   "cell_type": "code",
   "execution_count": 6,
   "id": "allied-burning",
   "metadata": {},
   "outputs": [
    {
     "name": "stdout",
     "output_type": "stream",
     "text": [
      "['cat', 'cat', 'guinea_pig', 'lizard', 'cat', 'cat', 'mouse']\n",
      "False\n"
     ]
    }
   ],
   "source": [
    "# and finally, verify that all of the elements of the list have been replaced\n",
    "print(pet_list)\n",
    "print('dog' in pet_list)"
   ]
  },
  {
   "cell_type": "markdown",
   "id": "arranged-trinity",
   "metadata": {},
   "source": [
    "This is a pretty simple example, but hopefully it demonstrates the value of being able to stop and examine what your code is doing while you're writing it, instead of debugging it by running everything over again every single time. This convenience really shines when you're dealing with big data and don't have to bother loading it / transforming it (which can be very time consuming steps) every time you want to try something new. "
   ]
  },
  {
   "cell_type": "markdown",
   "id": "moving-dialogue",
   "metadata": {},
   "source": [
    "An additional nice functionality of ipynbs is their direct compatibility with Markdown. For each cell that you write, you can choose whether it should be interpreted as code, markdown, or raw text. Markdown supports *text formatting* **such as this**. You can also make headings to different sections of your jupyter notebook, which you can see in the other parts of this notebook."
   ]
  },
  {
   "cell_type": "markdown",
   "id": "recovered-calculation",
   "metadata": {},
   "source": [
    "### Python"
   ]
  },
  {
   "cell_type": "markdown",
   "id": "introductory-click",
   "metadata": {},
   "source": [
    "This notebook is running Python. Python is a programming language that is commonly used in bioinformatics. It is (in my opinion) easy to understand and write, and has really powerful libraries that you can load for data science and visualization. I'm hoping a lot of you know how to program already but I'll go over some basic Python syntax and programming basics here."
   ]
  },
  {
   "cell_type": "code",
   "execution_count": 12,
   "id": "allied-programmer",
   "metadata": {},
   "outputs": [],
   "source": [
    "import pandas as pd # library for data matrix manipulation\n",
    "import seaborn as sns # library for plotting pandas-formatted data\n",
    "# by the way, lines that start with '#' are called comments\n",
    "# add them to your code to remember what you were doing"
   ]
  },
  {
   "cell_type": "code",
   "execution_count": 85,
   "id": "negative-requirement",
   "metadata": {},
   "outputs": [
    {
     "name": "stdout",
     "output_type": "stream",
     "text": [
      "1\n",
      "<class 'int'>\n",
      "\n",
      "0.003\n",
      "<class 'float'>\n",
      "\n",
      "hello world\n",
      "<class 'str'>\n",
      "\n"
     ]
    }
   ],
   "source": [
    "# types of variables (simple)\n",
    "my_int = 1 # whole numbers are 'ints' (integers)\n",
    "print(my_int)\n",
    "print(type(my_int))\n",
    "print()\n",
    "\n",
    "my_float = 0.003 # numbers with decimal places are 'floats' and have higher precision than ints\n",
    "print(my_float)\n",
    "print(type(my_float))\n",
    "print()\n",
    "\n",
    "my_string = 'hello world' # text enclosed in either '' or \"\" are 'strings'\n",
    "print(my_string)\n",
    "print(type(my_string))\n",
    "print()"
   ]
  },
  {
   "cell_type": "code",
   "execution_count": 86,
   "id": "immediate-agreement",
   "metadata": {},
   "outputs": [
    {
     "name": "stdout",
     "output_type": "stream",
     "text": [
      "frog\n",
      "bat\n",
      "axlotl\n",
      "<class 'list'>\n"
     ]
    }
   ],
   "source": [
    "my_list = ['frog', 'bat', 'axlotl'] # list\n",
    "print(my_list[0]) # indexing a list (python is a 0-based language)\n",
    "print(my_list[1])\n",
    "print(my_list[2])\n",
    "print(type(my_list))"
   ]
  },
  {
   "cell_type": "code",
   "execution_count": 87,
   "id": "external-shore",
   "metadata": {},
   "outputs": [
    {
     "name": "stdout",
     "output_type": "stream",
     "text": [
      "amphibian\n",
      "mammal\n",
      "amphibian\n",
      "<class 'dict'>\n"
     ]
    }
   ],
   "source": [
    "my_dict = {'axlotl': 'amphibian', 'bat': 'mammal', 'frog': 'amphibian'} # dictionary - store key:value pairs\n",
    "print(my_dict['axlotl'])\n",
    "print(my_dict['bat'])\n",
    "print(my_dict['frog'])\n",
    "print(type(my_dict))"
   ]
  },
  {
   "cell_type": "code",
   "execution_count": 88,
   "id": "simple-tragedy",
   "metadata": {},
   "outputs": [
    {
     "name": "stdout",
     "output_type": "stream",
     "text": [
      "             kind\n",
      "axlotl  amphibian\n",
      "bat        mammal\n",
      "frog    amphibian\n",
      "<class 'pandas.core.frame.DataFrame'>\n"
     ]
    }
   ],
   "source": [
    "data = ['amphibian', 'mammal', 'amphibian']\n",
    "ind = ['axlotl', 'bat', 'frog']\n",
    "df = pd.DataFrame(data=data, index=ind, columns=['kind']) # pandas data frame - I work with these every day!\n",
    "print(df)\n",
    "print(type(df))"
   ]
  },
  {
   "cell_type": "code",
   "execution_count": 15,
   "id": "conservative-shareware",
   "metadata": {},
   "outputs": [
    {
     "name": "stdout",
     "output_type": "stream",
     "text": [
      "0\n",
      "1\n",
      "2\n",
      "3\n",
      "4\n",
      "5\n",
      "6\n",
      "7\n",
      "8\n",
      "9\n",
      "\n",
      "frog\n",
      "bat\n",
      "axlotl\n",
      "\n",
      "Animal at 0: frog\n",
      "Animal at 1: bat\n",
      "Animal at 2: axlotl\n"
     ]
    }
   ],
   "source": [
    "# for loops\n",
    "\n",
    "# iterate until a certain number\n",
    "for i in range(10):\n",
    "    print(i)\n",
    "    \n",
    "print()\n",
    "\n",
    "# iterate through a list\n",
    "my_list = ['frog', 'bat', 'axlotl'] # list\n",
    "for animal in my_list:\n",
    "    print(animal)\n",
    "    \n",
    "print()\n",
    "    \n",
    "# iterate through a list while getting the number of each iteration using enumerate()\n",
    "for i, animal in enumerate(my_list):\n",
    "    print('Animal at {}: {}'.format(i, animal)) # string formatting - this is also useful"
   ]
  },
  {
   "cell_type": "code",
   "execution_count": 19,
   "id": "infectious-answer",
   "metadata": {},
   "outputs": [
    {
     "name": "stdout",
     "output_type": "stream",
     "text": [
      "Animal frog is an amphibian\n",
      "Animal bat is not an amphibian\n",
      "Animal axlotl is an amphibian\n",
      "\n",
      "First animal is frog\n",
      "Fount a bat\n",
      "Found an axlotl\n"
     ]
    }
   ],
   "source": [
    "# if / else blocks - execute code based on whether or not a condition is met\n",
    "for animal in my_list:\n",
    "    if animal == 'frog' or animal == 'axlotl': # or logic - one or the other condition is met\n",
    "        print('Animal {} is an amphibian'.format(animal))\n",
    "    else:\n",
    "        print('Animal {} is not an amphibian'.format(animal))\n",
    "        \n",
    "print()\n",
    "\n",
    "first_element = True # boolean variable, can be True or False\n",
    "for animal in my_list:\n",
    "    if first_element and animal == 'frog': # and logic - both conditions must be true\n",
    "        print('First animal is frog')\n",
    "    elif first_element and animal == 'bat': # elif: the following will execute only if the first part does not. in this case, it will never run.\n",
    "        print('First animal is bat')\n",
    "    else:\n",
    "        # you can index strings the same way you can index lists. here we're just trying to see if the word\n",
    "        # starts with a vowel\n",
    "        if animal[0] == 'a' or animal[0] == 'e' or animal[0] == 'i' or animal[0] == 'o' or animal[0] == 'u': \n",
    "            print('Found an {}'.format(animal))\n",
    "        else:\n",
    "            print('Fount a {}'.format(animal))\n",
    "    \n",
    "    first_element = False"
   ]
  },
  {
   "cell_type": "code",
   "execution_count": 21,
   "id": "secure-cemetery",
   "metadata": {},
   "outputs": [
    {
     "name": "stdout",
     "output_type": "stream",
     "text": [
      "First amphibian (frog) occurs at index 3\n"
     ]
    }
   ],
   "source": [
    "# while loops - execute code until a condition is met\n",
    "# useful when you're not sure when something's going to be done ie you don't know the exact index\n",
    "my_list = ['cat', 'bat', 'planarian', 'frog', 'axlotl']\n",
    "i = 0\n",
    "while my_list[i] != 'frog' and my_list[i] != 'axlotl': # inequality, check if something is not equal to something else\n",
    "    i += 1 # += operator, increment by 1\n",
    "print('First amphibian ({}) occurs at index {}'.format(my_list[i], i))"
   ]
  },
  {
   "cell_type": "code",
   "execution_count": 22,
   "id": "black-artwork",
   "metadata": {},
   "outputs": [
    {
     "name": "stdout",
     "output_type": "stream",
     "text": [
      "cat\n",
      "axlotl\n",
      "frog\n",
      "\n",
      "['cat', 'bat', 'planarian', 'frog']\n",
      "['bat', 'planarian', 'frog', 'axlotl']\n",
      "['planarian', 'frog']\n"
     ]
    }
   ],
   "source": [
    "# list indexing / slicing\n",
    "\n",
    "# access individual elements using individual numbers \n",
    "# 0 is first element, -1 is last element, -2 is second from last element\n",
    "print(my_list[0])\n",
    "print(my_list[-1])\n",
    "print(my_list[-2])\n",
    "\n",
    "print()\n",
    "\n",
    "# slice list using the : operator\n",
    "print(my_list[:-1]) # all elements of the list but the last one\n",
    "print(my_list[1:]) # all elements of the list by the first one\n",
    "print(my_list[2:4]) # some middle elements of the list"
   ]
  },
  {
   "cell_type": "code",
   "execution_count": 4,
   "id": "ahead-poster",
   "metadata": {},
   "outputs": [
    {
     "name": "stdout",
     "output_type": "stream",
     "text": [
      "['axlotl_amphibian', 'bat_mammal', 'frog_amphibian']\n",
      "\n",
      "['axlotl_amphibian', 'bat_mammal', 'frog_amphibian']\n"
     ]
    }
   ],
   "source": [
    "# list comprehension - python provides a compact way to iterate through lists\n",
    "# this is a little tricky so I don't entirely recommend if if you aren't solid\n",
    "# on other programming concepts\n",
    "\n",
    "# say we want to make a list from this dictionary that includes both \n",
    "# the animal and the type of animal it is in the format \"axlotl_amphibian\"\n",
    "my_dict = {'axlotl': 'amphibian', 'bat': 'mammal', 'frog': 'amphibian'} \n",
    "\n",
    "# original for loop \n",
    "new_list = []\n",
    "for key, item in my_dict.items(): # this is how you iterate through key:item pairs in a dictionary btw\n",
    "    new_list.append(key+'_'+item) # this is how you add an element to a list and how you concatenate strings together\n",
    "print(new_list)\n",
    "\n",
    "print()\n",
    "\n",
    "# list comprehension\n",
    "new_list = [key+'_'+item for key, item in my_dict.items()]\n",
    "print(new_list)"
   ]
  },
  {
   "cell_type": "code",
   "execution_count": 8,
   "id": "excess-messaging",
   "metadata": {},
   "outputs": [
    {
     "name": "stdout",
     "output_type": "stream",
     "text": [
      "[True, False, True]\n",
      "\n",
      "[True, False, True]\n"
     ]
    }
   ],
   "source": [
    "# list comprehension with if / else\n",
    "# you can use if / else logic in list comprehension as well \n",
    "\n",
    "# say we want to make a list of True and False values to say\n",
    "# whether or not each animal in a list is an amphibian\n",
    "my_list = ['frog', 'bat', 'axlotl']\n",
    "\n",
    "# original for loop\n",
    "new_list = []\n",
    "for animal in my_list:\n",
    "    if animal == 'frog' or animal == 'axlotl':\n",
    "        new_list.append(True)\n",
    "    else:\n",
    "        new_list.append(False)\n",
    "print(new_list)\n",
    "\n",
    "print()\n",
    "\n",
    "# list comprehension\n",
    "new_list = [True if animal == 'frog' or animal == 'axlotl' else False for animal in my_list]\n",
    "print(new_list)"
   ]
  },
  {
   "cell_type": "code",
   "execution_count": 10,
   "id": "adopted-letter",
   "metadata": {},
   "outputs": [
    {
     "name": "stdout",
     "output_type": "stream",
     "text": [
      "['frog', 'axlotl']\n",
      "\n",
      "['frog', 'axlotl']\n"
     ]
    }
   ],
   "source": [
    "# list comprehension with if \n",
    "# this is a little different for whatever reason\n",
    "\n",
    "# say we want to get a list of animals that are amphibians from our list\n",
    "my_list = ['frog', 'bat', 'axlotl']\n",
    "\n",
    "# original for loop\n",
    "new_list = []\n",
    "for animal in my_list:\n",
    "    if animal == 'frog' or animal == 'axlotl':\n",
    "        new_list.append(animal)\n",
    "print(new_list)\n",
    "\n",
    "print()\n",
    "\n",
    "# list comprehension\n",
    "new_list = [animal for animal in my_list if animal == 'frog' or animal == 'axlotl']\n",
    "print(new_list)"
   ]
  },
  {
   "cell_type": "markdown",
   "id": "decimal-louisiana",
   "metadata": {},
   "source": [
    "### Pandas\n",
    "\n",
    "Pandas is a really powerful library for data matrix manipulation. I'll go over some common uses of it here. \n",
    "\n",
    "If you end up using a lot of pandas though, please feel free to reach out to me via Slack! Big data manipulation is pretty tricky and the language that is used in the field is specific and difficult to master for Googling. If you feel like you're trying to do something with a matrix that _feels_ like there's got to be a better way to do it, you're probably right and I can help you investigate."
   ]
  },
  {
   "cell_type": "code",
   "execution_count": 47,
   "id": "improving-vault",
   "metadata": {},
   "outputs": [
    {
     "data": {
      "text/html": [
       "<div>\n",
       "<style scoped>\n",
       "    .dataframe tbody tr th:only-of-type {\n",
       "        vertical-align: middle;\n",
       "    }\n",
       "\n",
       "    .dataframe tbody tr th {\n",
       "        vertical-align: top;\n",
       "    }\n",
       "\n",
       "    .dataframe thead th {\n",
       "        text-align: right;\n",
       "    }\n",
       "</style>\n",
       "<table border=\"1\" class=\"dataframe\">\n",
       "  <thead>\n",
       "    <tr style=\"text-align: right;\">\n",
       "      <th></th>\n",
       "      <th>kind</th>\n",
       "    </tr>\n",
       "    <tr>\n",
       "      <th>animal</th>\n",
       "      <th></th>\n",
       "    </tr>\n",
       "  </thead>\n",
       "  <tbody>\n",
       "    <tr>\n",
       "      <th>axlotl</th>\n",
       "      <td>amphibian</td>\n",
       "    </tr>\n",
       "    <tr>\n",
       "      <th>bat</th>\n",
       "      <td>mammal</td>\n",
       "    </tr>\n",
       "    <tr>\n",
       "      <th>frog</th>\n",
       "      <td>amphibian</td>\n",
       "    </tr>\n",
       "  </tbody>\n",
       "</table>\n",
       "</div>"
      ],
      "text/plain": [
       "             kind\n",
       "animal           \n",
       "axlotl  amphibian\n",
       "bat        mammal\n",
       "frog    amphibian"
      ]
     },
     "execution_count": 47,
     "metadata": {},
     "output_type": "execute_result"
    }
   ],
   "source": [
    "# create a dataframe\n",
    "data = ['amphibian', 'mammal', 'amphibian']\n",
    "ind = ['axlotl', 'bat', 'frog']\n",
    "df = pd.DataFrame(data=data, index=ind, columns=['kind'])\n",
    "df.index.name = 'animal'\n",
    "df"
   ]
  },
  {
   "cell_type": "code",
   "execution_count": 48,
   "id": "touched-hardwood",
   "metadata": {},
   "outputs": [],
   "source": [
    "# write a dataframe to a tsv file\n",
    "df.to_csv('animals.tsv', sep='\\t')"
   ]
  },
  {
   "cell_type": "code",
   "execution_count": 49,
   "id": "saved-jerusalem",
   "metadata": {},
   "outputs": [
    {
     "data": {
      "text/html": [
       "<div>\n",
       "<style scoped>\n",
       "    .dataframe tbody tr th:only-of-type {\n",
       "        vertical-align: middle;\n",
       "    }\n",
       "\n",
       "    .dataframe tbody tr th {\n",
       "        vertical-align: top;\n",
       "    }\n",
       "\n",
       "    .dataframe thead th {\n",
       "        text-align: right;\n",
       "    }\n",
       "</style>\n",
       "<table border=\"1\" class=\"dataframe\">\n",
       "  <thead>\n",
       "    <tr style=\"text-align: right;\">\n",
       "      <th></th>\n",
       "      <th>animal</th>\n",
       "      <th>kind</th>\n",
       "    </tr>\n",
       "  </thead>\n",
       "  <tbody>\n",
       "    <tr>\n",
       "      <th>0</th>\n",
       "      <td>axlotl</td>\n",
       "      <td>amphibian</td>\n",
       "    </tr>\n",
       "    <tr>\n",
       "      <th>1</th>\n",
       "      <td>bat</td>\n",
       "      <td>mammal</td>\n",
       "    </tr>\n",
       "    <tr>\n",
       "      <th>2</th>\n",
       "      <td>frog</td>\n",
       "      <td>amphibian</td>\n",
       "    </tr>\n",
       "  </tbody>\n",
       "</table>\n",
       "</div>"
      ],
      "text/plain": [
       "   animal       kind\n",
       "0  axlotl  amphibian\n",
       "1     bat     mammal\n",
       "2    frog  amphibian"
      ]
     },
     "execution_count": 49,
     "metadata": {},
     "output_type": "execute_result"
    }
   ],
   "source": [
    "# read in a dataframe from a tsv file\n",
    "df = pd.read_csv('animals.tsv', sep='\\t') # https://pandas.pydata.org/docs/reference/api/pandas.read_csv.html\n",
    "df.head() # use df.head() to look at what's in the beginning of the dataframe"
   ]
  },
  {
   "cell_type": "code",
   "execution_count": 50,
   "id": "quarterly-blair",
   "metadata": {},
   "outputs": [
    {
     "data": {
      "text/html": [
       "<div>\n",
       "<style scoped>\n",
       "    .dataframe tbody tr th:only-of-type {\n",
       "        vertical-align: middle;\n",
       "    }\n",
       "\n",
       "    .dataframe tbody tr th {\n",
       "        vertical-align: top;\n",
       "    }\n",
       "\n",
       "    .dataframe thead th {\n",
       "        text-align: right;\n",
       "    }\n",
       "</style>\n",
       "<table border=\"1\" class=\"dataframe\">\n",
       "  <thead>\n",
       "    <tr style=\"text-align: right;\">\n",
       "      <th></th>\n",
       "      <th>kind</th>\n",
       "      <th>counts</th>\n",
       "    </tr>\n",
       "  </thead>\n",
       "  <tbody>\n",
       "    <tr>\n",
       "      <th>0</th>\n",
       "      <td>amphibian</td>\n",
       "      <td>2</td>\n",
       "    </tr>\n",
       "    <tr>\n",
       "      <th>1</th>\n",
       "      <td>mammal</td>\n",
       "      <td>1</td>\n",
       "    </tr>\n",
       "  </tbody>\n",
       "</table>\n",
       "</div>"
      ],
      "text/plain": [
       "        kind  counts\n",
       "0  amphibian       2\n",
       "1     mammal       1"
      ]
     },
     "execution_count": 50,
     "metadata": {},
     "output_type": "execute_result"
    }
   ],
   "source": [
    "# use groupby to count the number occurrences of the different kinds \n",
    "temp = df.groupby('kind').count().reset_index()\n",
    "temp.rename({'animal': 'counts'}, axis=1, inplace=True)\n",
    "temp"
   ]
  },
  {
   "cell_type": "code",
   "execution_count": 51,
   "id": "worldwide-encyclopedia",
   "metadata": {},
   "outputs": [
    {
     "name": "stdout",
     "output_type": "stream",
     "text": [
      "   animal       kind  fairlie  liz  jaz  nam\n",
      "0  axlotl  amphibian        3    0   10   25\n",
      "1     bat     mammal        0    4    2    6\n",
      "2    frog  amphibian       70    0    3    2\n",
      "\n",
      "        kind  fairlie  liz  jaz  nam\n",
      "0  amphibian       73    0   13   27\n",
      "1     mammal        0    4    2    6\n"
     ]
    }
   ],
   "source": [
    "# you can use pandas to perform different groupby operations as well \n",
    "# for instance, say we have a column to represent how many animals \n",
    "# a person has\n",
    "df['fairlie'] = [3,0,70] # i don't actually have any of these pets\n",
    "df['liz'] = [0,4,0] # neither do the other tas\n",
    "df['jaz'] = [10,2,3]\n",
    "df['nam'] = [25,6,2] # am i really the only one that doesn't have a 3 letter name?\n",
    "print(df.head())\n",
    "\n",
    "print()\n",
    "\n",
    "temp = df.groupby('kind').sum().reset_index() \n",
    "print(temp.head())"
   ]
  },
  {
   "cell_type": "code",
   "execution_count": 52,
   "id": "photographic-arrangement",
   "metadata": {},
   "outputs": [
    {
     "name": "stdout",
     "output_type": "stream",
     "text": [
      "   animal       kind  fairlie  liz  jaz  nam\n",
      "0  axlotl  amphibian        3    0   10   25\n",
      "1     bat     mammal        0    4    2    6\n",
      "2    frog  amphibian       70    0    3    2\n",
      "\n",
      "                 0       1          2\n",
      "animal      axlotl     bat       frog\n",
      "kind     amphibian  mammal  amphibian\n",
      "fairlie          3       0         70\n",
      "liz              0       4          0\n",
      "jaz             10       2          3\n"
     ]
    }
   ],
   "source": [
    "# transpose\n",
    "print(df.head())\n",
    "\n",
    "temp = df.transpose()\n",
    "\n",
    "print()\n",
    "\n",
    "print(temp.head())"
   ]
  },
  {
   "cell_type": "code",
   "execution_count": 53,
   "id": "virtual-creation",
   "metadata": {},
   "outputs": [
    {
     "name": "stdout",
     "output_type": "stream",
     "text": [
      "   animal       kind  fairlie  liz  jaz  nam\n",
      "0  axlotl  amphibian        3    0   10   25\n",
      "2    frog  amphibian       70    0    3    2\n"
     ]
    }
   ],
   "source": [
    "# access elements in the df using conditions\n",
    "temp = df.loc[df.kind == 'amphibian'] # only amphibians\n",
    "print(temp.head())"
   ]
  },
  {
   "cell_type": "code",
   "execution_count": 54,
   "id": "parental-dakota",
   "metadata": {},
   "outputs": [
    {
     "name": "stdout",
     "output_type": "stream",
     "text": [
      "  animal       kind  fairlie  liz  jaz  nam\n",
      "2   frog  amphibian       70    0    3    2\n"
     ]
    }
   ],
   "source": [
    "# access elements in the df using more than one condition (using and logic)\n",
    "\n",
    "# only amphibians that are also frogs (this is a bad example but I promise it will extend to more complex situations)\n",
    "temp = df.loc[(df.kind == 'amphibian')&(df.animal == 'frog')]\n",
    "print(temp.head())"
   ]
  },
  {
   "cell_type": "code",
   "execution_count": 62,
   "id": "signal-parish",
   "metadata": {},
   "outputs": [
    {
     "name": "stdout",
     "output_type": "stream",
     "text": [
      "  animal_new  ali  kyoko\n",
      "0       frog    0     10\n",
      "1     axlotl    0     20\n",
      "   animal       kind  fairlie  liz  jaz  nam\n",
      "0  axlotl  amphibian        3    0   10   25\n",
      "1     bat     mammal        0    4    2    6\n",
      "2    frog  amphibian       70    0    3    2\n",
      "\n",
      "   animal       kind  fairlie  liz  jaz  nam animal_new  ali  kyoko\n",
      "0  axlotl  amphibian        3    0   10   25     axlotl  0.0   20.0\n",
      "1     bat     mammal        0    4    2    6        NaN  NaN    NaN\n",
      "2    frog  amphibian       70    0    3    2       frog  0.0   10.0\n",
      "\n",
      "   animal       kind  fairlie  liz  jaz  nam animal_new  ali  kyoko\n",
      "0  axlotl  amphibian        3    0   10   25     axlotl  0.0   20.0\n",
      "1     bat     mammal        0    4    2    6        bat  0.0    0.0\n",
      "2    frog  amphibian       70    0    3    2       frog  0.0   10.0\n"
     ]
    }
   ],
   "source": [
    "# perform database-style merges \n",
    "# there are a lot of options so please look at the documentation for more info!\n",
    "# https://pandas.pydata.org/docs/reference/api/pandas.DataFrame.merge.html\n",
    "data = [['frog', 0, 10], ['axlotl', 0, 20]]\n",
    "# data = [['frog', 'axlotl'], [0,0], [10,20]]\n",
    "\n",
    "columns = ['animal_new', 'ali', 'kyoko']\n",
    "new_df = pd.DataFrame(data=data, columns=columns)\n",
    "print(new_df)\n",
    "print(df)\n",
    "print()\n",
    "\n",
    "# merge new animal ownership info with old \n",
    "temp = df.merge(new_df, how='outer', left_on='animal', right_on='animal_new')\n",
    "print(temp)\n",
    "\n",
    "print()\n",
    "\n",
    "# fill NaN (not a number) values with 0s and replacce the missing animal_new values\n",
    "temp['animal_new'] = temp['animal']\n",
    "temp.fillna(0, inplace=True)\n",
    "print(temp)"
   ]
  },
  {
   "cell_type": "code",
   "execution_count": 76,
   "id": "bearing-swimming",
   "metadata": {},
   "outputs": [
    {
     "name": "stdout",
     "output_type": "stream",
     "text": [
      "   animal       kind  fairlie  liz  jaz  nam\n",
      "0  axlotl  amphibian        3    0   10   25\n",
      "1     bat     mammal        0    4    2    6\n",
      "2    frog  amphibian       70    0    3    2\n",
      "\n",
      "    animal       kind   person  counts\n",
      "0   axlotl  amphibian  fairlie       3\n",
      "1      bat     mammal  fairlie       0\n",
      "2     frog  amphibian  fairlie      70\n",
      "3   axlotl  amphibian      liz       0\n",
      "4      bat     mammal      liz       4\n",
      "5     frog  amphibian      liz       0\n",
      "6   axlotl  amphibian      jaz      10\n",
      "7      bat     mammal      jaz       2\n",
      "8     frog  amphibian      jaz       3\n",
      "9   axlotl  amphibian      nam      25\n",
      "10     bat     mammal      nam       6\n",
      "11    frog  amphibian      nam       2\n"
     ]
    }
   ],
   "source": [
    "# melt\n",
    "# sometimes you need to convert the format from wide format, where each row has multiple data entries.\n",
    "# (in this case, each entry corresponds to the number of animals each person has),\n",
    "# into long format, where each row represents one entry\n",
    "# i commonly use melt to coerce the data into a format that is compatible with\n",
    "# plotting tools I want to use\n",
    "# for me at least, the options are a little confusing but just play with it until \n",
    "# it does what you want\n",
    "# https://pandas.pydata.org/docs/reference/api/pandas.melt.html\n",
    "\n",
    "print(df)\n",
    "print()\n",
    "\n",
    "temp = df.melt(id_vars=['animal', 'kind'], value_vars=['fairlie', 'liz', 'jaz', 'nam'], \n",
    "               var_name='person', value_name='counts')\n",
    "print(temp)"
   ]
  },
  {
   "cell_type": "code",
   "execution_count": 77,
   "id": "portable-nickel",
   "metadata": {},
   "outputs": [
    {
     "name": "stdout",
     "output_type": "stream",
     "text": [
      "    animal       kind   person  counts\n",
      "0   axlotl  amphibian  fairlie       3\n",
      "1      bat     mammal  fairlie       0\n",
      "2     frog  amphibian  fairlie      70\n",
      "3   axlotl  amphibian      liz       0\n",
      "4      bat     mammal      liz       4\n",
      "5     frog  amphibian      liz       0\n",
      "6   axlotl  amphibian      jaz      10\n",
      "7      bat     mammal      jaz       2\n",
      "8     frog  amphibian      jaz       3\n",
      "9   axlotl  amphibian      nam      25\n",
      "10     bat     mammal      nam       6\n",
      "11    frog  amphibian      nam       2\n",
      "\n",
      "person            fairlie  jaz  liz  nam\n",
      "animal kind                             \n",
      "axlotl amphibian        3   10    0   25\n",
      "bat    mammal           0    2    4    6\n",
      "frog   amphibian       70    3    0    2\n"
     ]
    }
   ],
   "source": [
    "# pivot\n",
    "# pivot is the opposite of melt. turn a long-form data matrix into a wide-form one\n",
    "\n",
    "print(temp)\n",
    "print()\n",
    "\n",
    "temp = temp.pivot(['animal', 'kind'], columns='person', values='counts')\n",
    "print(temp)"
   ]
  },
  {
   "cell_type": "code",
   "execution_count": 79,
   "id": "central-regard",
   "metadata": {},
   "outputs": [
    {
     "name": "stdout",
     "output_type": "stream",
     "text": [
      "   animal       kind  fairlie  liz  jaz  nam  3rd_years\n",
      "0  axlotl  amphibian        3    0   10   25          3\n",
      "1     bat     mammal        0    4    2    6          4\n",
      "2    frog  amphibian       70    0    3    2         70\n"
     ]
    }
   ],
   "source": [
    "# perform mathematical operations on your dataframe\n",
    "# pandas can perform many math operations on elements of your dataframe in parallel (so it's really efficient)\n",
    "\n",
    "# create a new column that's the sum of the animals that liz and fairlie have\n",
    "df['3rd_years'] = df['fairlie']+df['liz']\n",
    "print(df)"
   ]
  },
  {
   "cell_type": "code",
   "execution_count": 80,
   "id": "sweet-railway",
   "metadata": {},
   "outputs": [
    {
     "name": "stdout",
     "output_type": "stream",
     "text": [
      "   animal       kind  fairlie  liz  jaz  nam  3rd_years  jaz_x10\n",
      "0  axlotl  amphibian        3    0   10   25          3      100\n",
      "1     bat     mammal        0    4    2    6          4       20\n",
      "2    frog  amphibian       70    0    3    2         70       30\n"
     ]
    }
   ],
   "source": [
    "# you can also perform operations that involve constants that \n",
    "# are not columns in the dataframe\n",
    "\n",
    "# create a new column that multiplies jaz's animals by 10\n",
    "df['jaz_x10'] = df['jaz']*10\n",
    "print(df)"
   ]
  },
  {
   "cell_type": "code",
   "execution_count": 81,
   "id": "radio-municipality",
   "metadata": {},
   "outputs": [
    {
     "name": "stdout",
     "output_type": "stream",
     "text": [
      "33\n",
      "\n",
      "   animal       kind  fairlie  liz  jaz  nam  3rd_years  jaz_x10  nam_percent\n",
      "0  axlotl  amphibian        3    0   10   25          3      100    75.757576\n",
      "1     bat     mammal        0    4    2    6          4       20    18.181818\n",
      "2    frog  amphibian       70    0    3    2         70       30     6.060606\n"
     ]
    }
   ],
   "source": [
    "# what if we want to determine what percent of nam's total collection\n",
    "# of animals that each individual animal comprises?\n",
    "\n",
    "# use the sum function to compute the total number of\n",
    "# animals that nam has\n",
    "nam_total = df['nam'].sum()\n",
    "print(nam_total)\n",
    "print()\n",
    "\n",
    "# create a new column that computes percent of \n",
    "# total animals that each animal nam has comprises\n",
    "df['nam_percent'] = (df['nam']/nam_total)*100\n",
    "print(df)"
   ]
  },
  {
   "cell_type": "code",
   "execution_count": 82,
   "id": "ordered-window",
   "metadata": {},
   "outputs": [
    {
     "name": "stdout",
     "output_type": "stream",
     "text": [
      "['amphibian', 'mammal', 'amphibian']\n",
      "['amphibian', 'mammal']\n"
     ]
    }
   ],
   "source": [
    "# unique values - get the unique values present in a column of a dataframe\n",
    "\n",
    "print(df['kind'].tolist())\n",
    "\n",
    "print(df['kind'].unique().tolist())"
   ]
  },
  {
   "cell_type": "code",
   "execution_count": null,
   "id": "quick-flash",
   "metadata": {},
   "outputs": [],
   "source": []
  }
 ],
 "metadata": {
  "kernelspec": {
   "display_name": "Python 3",
   "language": "python",
   "name": "python3"
  },
  "language_info": {
   "codemirror_mode": {
    "name": "ipython",
    "version": 3
   },
   "file_extension": ".py",
   "mimetype": "text/x-python",
   "name": "python",
   "nbconvert_exporter": "python",
   "pygments_lexer": "ipython3",
   "version": "3.7.4"
  }
 },
 "nbformat": 4,
 "nbformat_minor": 5
}
