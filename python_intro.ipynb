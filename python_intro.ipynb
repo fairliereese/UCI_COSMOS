{
 "cells": [
  {
   "cell_type": "markdown",
   "id": "compatible-minnesota",
   "metadata": {},
   "source": [
    "# Intro to Python, pandas, and iPython notebooks "
   ]
  },
  {
   "cell_type": "markdown",
   "id": "sized-session",
   "metadata": {},
   "source": [
    "Welcome to jupyter notebook on HPC (high-performance compute cluster). iPython notebooks / jupyter notebooks are interactive multimedia environments to write and run code.\n",
    "\n",
    "For those who have programmed and run their own programs before, perhaps you're more familiar with running your program once from start to end. iPython notebooks provide a way to run code more interactively."
   ]
  },
  {
   "cell_type": "markdown",
   "id": "german-conjunction",
   "metadata": {},
   "source": [
    "Each unit in a jupyter notebook is called a cell. Typically when I use ipynbs, I run one cell at a time. You can run a cell by clicking on it and pressing shift+enter. Try it on the cell below."
   ]
  },
  {
   "cell_type": "code",
   "execution_count": 1,
   "id": "ambient-luther",
   "metadata": {},
   "outputs": [
    {
     "name": "stdout",
     "output_type": "stream",
     "text": [
      "hello world\n"
     ]
    }
   ],
   "source": [
    "print('hello world')"
   ]
  },
  {
   "cell_type": "markdown",
   "id": "worth-disaster",
   "metadata": {},
   "source": [
    "Another really nice feature of ipynbs that particularly well-suited for data science is the persistence of variables after running a cell of code. That is to say, if you run some code in one cell, you can then access it in another cell and investigate what it is. This allows you to run small chunks of code at a time, make sure that they're doing what you want them to, and then to continue using your variables.\n",
    "\n",
    "Take the following example, say we have a list and we want to swap out all instances of 'dog' for 'cat'"
   ]
  },
  {
   "cell_type": "code",
   "execution_count": 2,
   "id": "mexican-exposure",
   "metadata": {},
   "outputs": [],
   "source": [
    "pet_list = ['dog', 'cat', 'guinea_pig', 'lizard', 'cat', 'dog', 'mouse']"
   ]
  },
  {
   "cell_type": "markdown",
   "id": "drawn-deficit",
   "metadata": {},
   "source": [
    "First, we can see if we can identify which parts of the list contain 'dog' instances."
   ]
  },
  {
   "cell_type": "code",
   "execution_count": 3,
   "id": "funny-identifier",
   "metadata": {},
   "outputs": [],
   "source": [
    "# loop through the list and find the indices of the list where the element is 'dog'\n",
    "dog_indices = []\n",
    "for i, element in enumerate(pet_list):\n",
    "    if element == 'dog':\n",
    "        dog_indices.append(i)"
   ]
  },
  {
   "cell_type": "code",
   "execution_count": 4,
   "id": "southwest-damages",
   "metadata": {},
   "outputs": [
    {
     "name": "stdout",
     "output_type": "stream",
     "text": [
      "\n",
      "dog\n",
      "True\n",
      "\n",
      "dog\n",
      "True\n"
     ]
    }
   ],
   "source": [
    "# make sure that each of the indices we found are 'dog'\n",
    "for i in dog_indices:\n",
    "    print()\n",
    "    print(pet_list[i])\n",
    "    print(pet_list[i] == 'dog')"
   ]
  },
  {
   "cell_type": "code",
   "execution_count": null,
   "id": "alleged-berlin",
   "metadata": {},
   "outputs": [],
   "source": [
    "# now that we can be confident that we've identified all the elements of the list that are 'dog', we can replace them\n",
    "for i in dog_indices:\n",
    "    pet_list[i] = 'cat'"
   ]
  }
 ],
 "metadata": {
  "kernelspec": {
   "display_name": "Python 3",
   "language": "python",
   "name": "python3"
  },
  "language_info": {
   "codemirror_mode": {
    "name": "ipython",
    "version": 3
   },
   "file_extension": ".py",
   "mimetype": "text/x-python",
   "name": "python",
   "nbconvert_exporter": "python",
   "pygments_lexer": "ipython3",
   "version": "3.7.4"
  }
 },
 "nbformat": 4,
 "nbformat_minor": 5
}
